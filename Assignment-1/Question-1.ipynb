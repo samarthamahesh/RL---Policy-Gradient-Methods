{
  "nbformat": 4,
  "nbformat_minor": 0,
  "metadata": {
    "colab": {
      "name": "TML Assign-1 (Q1)",
      "provenance": [],
      "collapsed_sections": []
    },
    "kernelspec": {
      "name": "python3",
      "display_name": "Python 3"
    },
    "language_info": {
      "name": "python"
    }
  },
  "cells": [
    {
      "cell_type": "markdown",
      "metadata": {
        "id": "oIEqI-Etgfi9"
      },
      "source": [
        "# Import libraries"
      ]
    },
    {
      "cell_type": "code",
      "metadata": {
        "id": "p_MVZH7z9MpB"
      },
      "source": [
        "import gym\n",
        "import numpy as np\n",
        "import random\n",
        "import matplotlib.pyplot as plt"
      ],
      "execution_count": null,
      "outputs": []
    },
    {
      "cell_type": "markdown",
      "metadata": {
        "id": "dPNxAf11gmO3"
      },
      "source": [
        "# Initialize parameters and environment"
      ]
    },
    {
      "cell_type": "code",
      "metadata": {
        "id": "pVT9zW8T-S_T"
      },
      "source": [
        "params = {\n",
        "    \"discount\": 0.9,\n",
        "    \"tol\": 1e-3,\n",
        "    \"max_iters\": 1000,\n",
        "    \"sim_N\": 20,\n",
        "    \"limit\": 100\n",
        "}"
      ],
      "execution_count": null,
      "outputs": []
    },
    {
      "cell_type": "code",
      "metadata": {
        "id": "j7wutu5x9U7p"
      },
      "source": [
        "env = gym.make('CliffWalking-v0')\n",
        "\n",
        "# Changing the dynamics of terminal state\n",
        "env.P[47] = {\n",
        "    0: [(1.0, 47, 0, True)],\n",
        "    1: [(1.0, 47, 0, True)],\n",
        "    2: [(1.0, 47, 0, True)],\n",
        "    3: [(1.0, 47, 0, True)]\n",
        "}\n",
        "\n",
        "env.P[36][1] = [(1.0, 36, -100, True)]\n",
        "\n",
        "for i in range(25, 35):\n",
        "    env.P[i][2] = [(1.0, 36, -100, True)]\n",
        "\n",
        "for i in range(37, 47):\n",
        "    env.P[i][0] = [(1.0, 36, -100, True)]\n",
        "    env.P[i][1] = [(1.0, 36, -100, True)]\n",
        "    env.P[i][2] = [(1.0, 36, -100, True)]\n",
        "    env.P[i][3] = [(1.0, 36, -100, True)]"
      ],
      "execution_count": null,
      "outputs": []
    },
    {
      "cell_type": "code",
      "metadata": {
        "id": "GkP5F_Tt9ZmV",
        "colab": {
          "base_uri": "https://localhost:8080/"
        },
        "outputId": "97f8e191-c8f6-47f6-aa53-e151cdfd4430"
      },
      "source": [
        "nS = env.observation_space.n\n",
        "nA = env.action_space.n\n",
        "\n",
        "print(\"Number of states :\", nS, \"\\nNumber of actions:\", nA)"
      ],
      "execution_count": null,
      "outputs": [
        {
          "output_type": "stream",
          "name": "stdout",
          "text": [
            "Number of states : 48 \n",
            "Number of actions: 4\n"
          ]
        }
      ]
    },
    {
      "cell_type": "markdown",
      "metadata": {
        "id": "d7M7mLFHKgET"
      },
      "source": [
        "# DP Agent using Value Iteration algorithm"
      ]
    },
    {
      "cell_type": "code",
      "metadata": {
        "id": "E50nFZT2EEEh"
      },
      "source": [
        "class DPAgentValueIteration():\n",
        "    '''\n",
        "    Models Dynamic Programming RL agent which is trained using Value Iteration algorithm\n",
        "    '''\n",
        "    def __init__(self, env, params):\n",
        "        '''\n",
        "        Method to initialize the DP agent model\n",
        "\n",
        "        Input\n",
        "        -----\n",
        "        env     : Environment\n",
        "        params  : Parameters for training and simulation\n",
        "        '''\n",
        "        self.env = env\n",
        "        self.nS = env.observation_space.n\n",
        "        self.nA = env.action_space.n\n",
        "        self.params = params\n",
        "        \n",
        "        # Initialize state values\n",
        "        self.V = np.random.rand(self.nS)\n",
        "        self.V[-1] = 0\n",
        "\n",
        "        # Initialize policy\n",
        "        # self.policy = np.random.randint(self.nA, size=self.nS)\n",
        "        self.policy = np.zeros(self.nS)\n",
        "        self.policy[-1] = 0\n",
        "\n",
        "    def value_iteration(self):\n",
        "        '''\n",
        "        Method to train the model using Value Iteration algorithm\n",
        "\n",
        "        Output\n",
        "        ------\n",
        "        V       : State values\n",
        "        returns : List with returns after each training iteration\n",
        "        '''\n",
        "        V = np.random.rand(self.nS)\n",
        "        V[-1] = 0\n",
        "\n",
        "        returns = []\n",
        "        iter = 0\n",
        "\n",
        "        while True:\n",
        "            delta = 0\n",
        "\n",
        "            for state in range(self.nS):\n",
        "                v = V[state]\n",
        "                max_val = -100000\n",
        "\n",
        "                for action in range(self.nA):\n",
        "                    val = 0\n",
        "\n",
        "                    for tmp in self.env.P[state][action]:\n",
        "                        val += tmp[0] * (tmp[2] + self.params[\"discount\"] * V[tmp[1]])\n",
        "\n",
        "                    if val > max_val:\n",
        "                        max_val = val\n",
        "\n",
        "                V[state] = max_val\n",
        "                delta = max(delta, abs(V[state] - v))\n",
        "\n",
        "            self.V = V\n",
        "            self.update_policy()\n",
        "\n",
        "            rets = []\n",
        "            for i in range(self.params[\"sim_N\"]):\n",
        "                rets.append(self.simulate())\n",
        "            returns.append(np.mean(rets))\n",
        "            \n",
        "            iter += 1\n",
        "\n",
        "            if delta < self.params[\"tol\"]:\n",
        "                break\n",
        "\n",
        "        print(\"Number of iterations taken to converge:\", iter, \"\\n\")\n",
        "        \n",
        "        return V, returns\n",
        "\n",
        "    def train_agent(self):\n",
        "        '''\n",
        "        Method to train agent\n",
        "\n",
        "        Output\n",
        "        ------\n",
        "        returns: A list with returns after each training iteration\n",
        "        '''\n",
        "        self.V, returns = self.value_iteration()\n",
        "        self.update_policy()\n",
        "        return returns\n",
        "\n",
        "    def update_policy(self):\n",
        "        '''\n",
        "        Method to update policy\n",
        "        '''\n",
        "        for state in range(self.nS):\n",
        "            max_value = -1000000\n",
        "            max_action = -1\n",
        "\n",
        "            for action in range(self.nA):\n",
        "                val = 0\n",
        "\n",
        "                for tmp in self.env.P[state][action]:\n",
        "                    val += tmp[0] * (tmp[2] + self.params[\"discount\"] * self.V[tmp[1]])\n",
        "                \n",
        "                if val > max_value:\n",
        "                    max_value = val\n",
        "                    max_action = action\n",
        "\n",
        "            self.policy[state] = max_action\n",
        "\n",
        "    def simulate(self):\n",
        "        '''\n",
        "        Method to run the simulation using current policy\n",
        "\n",
        "        Output\n",
        "        ------\n",
        "        ret: Return of the simulation\n",
        "        '''\n",
        "        ret = 0\n",
        "        state = self.env.reset()\n",
        "        done = False\n",
        "        iter = 0\n",
        "\n",
        "        while not done and iter < self.params[\"max_iters\"]:\n",
        "            if random.uniform(0, 1) < 0.1:\n",
        "                action = self.env.action_space.sample()\n",
        "            else:\n",
        "                action = self.policy[state]\n",
        "\n",
        "            obs, reward, done, info = self.env.step(action)\n",
        "            ret += reward\n",
        "\n",
        "            state = obs\n",
        "            iter += 1\n",
        "\n",
        "        return ret\n",
        "\n",
        "    def get_nS(self):\n",
        "        '''\n",
        "        Getter method for number of states\n",
        "        '''\n",
        "        return self.nS\n",
        "\n",
        "    def get_nA(self):\n",
        "        '''\n",
        "        Getter method for number of actions\n",
        "        '''\n",
        "        return self.nA\n",
        "\n",
        "    def get_policy_state(self, state):\n",
        "        '''\n",
        "        Getter method for policy of the input state\n",
        "        '''\n",
        "        return self.policy[state]\n",
        "\n",
        "    def get_state_value(self, state):\n",
        "        '''\n",
        "        Getter method for state value of the input state\n",
        "        '''\n",
        "        return self.V[state]"
      ],
      "execution_count": null,
      "outputs": []
    },
    {
      "cell_type": "code",
      "metadata": {
        "colab": {
          "base_uri": "https://localhost:8080/",
          "height": 329
        },
        "id": "VgRCBEBjwaY3",
        "outputId": "72b73f1d-c4c5-45f0-8bb9-4f4664c76432"
      },
      "source": [
        "# Initialize agent\n",
        "vi_agent = DPAgentValueIteration(env, params)\n",
        "\n",
        "# Train the agent and get returns list\n",
        "returns = vi_agent.train_agent()\n",
        "\n",
        "# Plot the returns vs iterations plot\n",
        "len1 = len(returns)\n",
        "x = np.arange(len1)+1\n",
        "plt.plot(x, returns)\n",
        "\n",
        "min_ret, max_ret, mean_ret = np.min(returns), np.max(returns), np.mean(returns)\n",
        "plt.plot(x, np.ones(len1)*min_ret, label=\"min\")\n",
        "plt.plot(x, np.ones(len1)*max_ret, label=\"max\")\n",
        "plt.plot(x, np.ones(len1)*mean_ret, label=\"mean\")\n",
        "plt.legend()\n",
        "plt.title(\"Rewards vs Iterations\")\n",
        "plt.xlabel(\"Iterations\")\n",
        "plt.ylabel(\"Rewards\")\n",
        "plt.show()"
      ],
      "execution_count": null,
      "outputs": [
        {
          "output_type": "stream",
          "name": "stdout",
          "text": [
            "Number of iterations taken to converge: 16 \n",
            "\n"
          ]
        },
        {
          "output_type": "display_data",
          "data": {
            "image/png": "[encoded data removed]",
            "text/plain": [
              "<Figure size 432x288 with 1 Axes>"
            ]
          },
          "metadata": {
            "needs_background": "light"
          }
        }
      ]
    },
    {
      "cell_type": "markdown",
      "metadata": {
        "id": "K8T6q3NsDMv2"
      },
      "source": [
        "We see that the Value Iteration algorithm converged at 16th iteration. Hence the value of N is 16, i.e., the number of iterations it took to converge.\n",
        "\n",
        "After each iteration, I have computed the intermediate policy which is used to simulate episodes to check the learning of the agent. 20 episodes are simulated and the mean of returns observed is taken.\n",
        "\n",
        "We see that the learning curve is increase, i.e., the mean rewards is increasing through iterations. Hence, the agent is learning policies through iteraitons. We see that towards the end, the mean reward obtained is around 25."
      ]
    },
    {
      "cell_type": "code",
      "metadata": {
        "id": "WRfSHjKEKkjh",
        "colab": {
          "base_uri": "https://localhost:8080/"
        },
        "outputId": "25da59c4-b6d5-477f-c646-e2f02c5293f7"
      },
      "source": [
        "# Agent's policy\n",
        "vi_agent.policy"
      ],
      "execution_count": null,
      "outputs": [
        {
          "output_type": "execute_result",
          "data": {
            "text/plain": [
              "array([1., 1., 1., 1., 1., 1., 1., 1., 1., 1., 1., 2., 1., 1., 1., 1., 1.,\n",
              "       1., 1., 1., 1., 1., 1., 2., 1., 1., 1., 1., 1., 1., 1., 1., 1., 1.,\n",
              "       1., 2., 0., 0., 0., 0., 0., 0., 0., 0., 0., 0., 0., 0.])"
            ]
          },
          "metadata": {},
          "execution_count": 180
        }
      ]
    },
    {
      "cell_type": "markdown",
      "metadata": {
        "id": "S9JUbu23DNT6"
      },
      "source": [
        "We see that the optimal policy obtained after training the agent using Value Iteration algorithm is indeed optimal. All the actions in every state are aigned towards the terminal state without falling into cliff."
      ]
    },
    {
      "cell_type": "markdown",
      "metadata": {
        "id": "aBZEeFDdKkxk"
      },
      "source": [
        "# DP Agent using Policy Iteration algorithm"
      ]
    },
    {
      "cell_type": "code",
      "metadata": {
        "id": "mVoSkJIiew-2"
      },
      "source": [
        "class DPAgentPolicyIteration():\n",
        "    '''\n",
        "    Models Dynamic Programming agent which will be trianed using Policy Iteration algorithm\n",
        "    '''\n",
        "    def __init__(self, env, params):\n",
        "        '''\n",
        "        Method to initialize model\n",
        "\n",
        "        Input\n",
        "        -----\n",
        "        env     : Environment\n",
        "        params  : Parameters for training and simulation\n",
        "        '''\n",
        "        self.env = env\n",
        "        self.nS = env.observation_space.n\n",
        "        self.nA = env.action_space.n\n",
        "        self.params = params\n",
        "\n",
        "        self.V = np.random.rand(self.nS)\n",
        "        self.V[-1] = 0\n",
        "        self.policy = np.random.randint(self.nA, size=self.nS)\n",
        "        self.policy[-1] = 0\n",
        "\n",
        "    def policy_evaluation(self, policy):\n",
        "        '''\n",
        "        Method for policy evaluation given the policy\n",
        "\n",
        "        Input\n",
        "        -----\n",
        "        policy: Policy to be evaluated\n",
        "\n",
        "        Output\n",
        "        ------\n",
        "        V: State values corresponding to input policy\n",
        "        '''\n",
        "        V = np.random.rand(self.nS)\n",
        "        V[-1] = 0\n",
        "        iter = 0\n",
        "\n",
        "        while True and iter < 10000:\n",
        "            delta = 0\n",
        "            \n",
        "            for state in range(self.nS):\n",
        "                v = V[state]\n",
        "                val = 0\n",
        "\n",
        "                for tmp in self.env.P[state][policy[state]]:\n",
        "                    val += tmp[0] * (tmp[2] + self.params[\"discount\"] * V[tmp[1]])\n",
        "\n",
        "                V[state] = val\n",
        "                delta = max(delta, abs(V[state] - v))\n",
        "\n",
        "            if delta < self.params[\"tol\"]:\n",
        "                break\n",
        "\n",
        "            iter += 1\n",
        "            \n",
        "        return V\n",
        "\n",
        "    def policy_improvement(self, V, policy):\n",
        "        '''\n",
        "        Method for policy improvement\n",
        "\n",
        "        Input\n",
        "        -----\n",
        "        V       : State values\n",
        "        policy  : Input policy\n",
        "\n",
        "        Output\n",
        "        ------\n",
        "        policy          : Improved policy\n",
        "        policy_stable   : Status of the policy improvement (Boolean)\n",
        "        '''\n",
        "        policy_stable = True\n",
        "\n",
        "        for state in range(self.nS):\n",
        "            old_action = policy[state]\n",
        "            max_value = -100000\n",
        "            max_action = -1\n",
        "\n",
        "            for action in range(self.nA):\n",
        "                val = 0\n",
        "\n",
        "                for tmp in self.env.P[state][action]:\n",
        "                    val += tmp[0] * (tmp[2] + self.params[\"discount\"] * V[tmp[1]])\n",
        "\n",
        "                if val > max_value:\n",
        "                    max_value = val\n",
        "                    max_action = action\n",
        "\n",
        "            policy[state] = max_action\n",
        "\n",
        "            if old_action != policy[state]:\n",
        "                policy_stable = False\n",
        "\n",
        "        return policy, policy_stable\n",
        "\n",
        "    def policy_iteration(self):\n",
        "        '''\n",
        "        Method for policy iteration\n",
        "\n",
        "        Output\n",
        "        ------\n",
        "        V       : State values corresponding to optimal policy\n",
        "        policy  : Optimal policy\n",
        "        returns : List of returns of each iteration\n",
        "        '''\n",
        "        V = np.random.rand(self.nS)\n",
        "        V[-1] = 0\n",
        "        # policy = np.random.randint(self.nA, size=self.nS)\n",
        "        policy = np.zeros(nS)\n",
        "        policy[-1] = 0\n",
        "        \n",
        "        policy_stable = False\n",
        "        iter = 0\n",
        "        returns = []\n",
        "\n",
        "        while not policy_stable and iter < self.params[\"limit\"]:\n",
        "            # Policy Evaluation\n",
        "            V = self.policy_evaluation(policy)\n",
        "            self.V = V\n",
        "\n",
        "            # Policy Improvement\n",
        "            policy, policy_stable = self.policy_improvement(V, policy)\n",
        "            self.policy = policy\n",
        "\n",
        "            rets = []\n",
        "            for i in range(self.params[\"sim_N\"]):\n",
        "                rets.append(self.simulate())\n",
        "            returns.append(np.mean(rets))\n",
        "\n",
        "            iter += 1\n",
        "\n",
        "        print(\"Number of iterations taken for convergence:\", iter, \"\\n\")\n",
        "\n",
        "        return V, policy, returns\n",
        "\n",
        "    def train_agent(self, ):\n",
        "        '''\n",
        "        Method to train agent\n",
        "\n",
        "        Output\n",
        "        ------\n",
        "        returns: List of returns of each iteration of policy iteration\n",
        "        '''\n",
        "        self.V, self.policy, returns = self.policy_iteration()\n",
        "        return returns\n",
        "\n",
        "    def simulate(self):\n",
        "        '''\n",
        "        Method for simulation based on current policy\n",
        "\n",
        "        Output\n",
        "        ------\n",
        "        ret: Return of the simulation\n",
        "        '''\n",
        "        ret = 0\n",
        "        state = self.env.reset()\n",
        "        done = False\n",
        "        iter = 0\n",
        "\n",
        "        while not done and iter < self.params[\"max_iters\"]:\n",
        "            if random.uniform(0, 1) < 0.1:\n",
        "                action = self.env.action_space.sample()\n",
        "            else:\n",
        "                action = self.policy[state]\n",
        "\n",
        "            obs, reward, done, info = self.env.step(action)\n",
        "            ret += reward\n",
        "\n",
        "            state = obs\n",
        "            iter += 1\n",
        "\n",
        "        return ret\n",
        "\n",
        "    def get_nS(self):\n",
        "        '''\n",
        "        Getter method for number of states\n",
        "        '''\n",
        "        return self.nS\n",
        "\n",
        "    def get_nA(self):\n",
        "        '''\n",
        "        Getter method for number of actions\n",
        "        '''\n",
        "        return self.nA\n",
        "\n",
        "    def get_policy_state(self, state):\n",
        "        '''\n",
        "        Getter method for current policy of input state\n",
        "        '''\n",
        "        return self.policy[state]\n",
        "\n",
        "    def get_state_value(self, state):\n",
        "        '''\n",
        "        Getter method for state value of input state\n",
        "        '''\n",
        "        return self.V[state]"
      ],
      "execution_count": null,
      "outputs": []
    },
    {
      "cell_type": "code",
      "metadata": {
        "colab": {
          "base_uri": "https://localhost:8080/",
          "height": 295
        },
        "id": "tt8hKJTQiGK9",
        "outputId": "2583f12b-0324-4a28-e132-1392342752fd"
      },
      "source": [
        "pi_agent = DPAgentPolicyIteration(env, params)\n",
        "returns = pi_agent.train_agent()\n",
        "\n",
        "# Plot the returns vs iterations plot\n",
        "len1 = len(returns)\n",
        "x = np.arange(len1)+1\n",
        "plt.plot(x, returns)\n",
        "\n",
        "min_ret, max_ret, mean_ret = np.min(returns), np.max(returns), np.mean(returns)\n",
        "plt.plot(x, np.ones(len1)*min_ret, label=\"min\")\n",
        "plt.plot(x, np.ones(len1)*max_ret, label=\"max\")\n",
        "plt.plot(x, np.ones(len1)*mean_ret, label=\"mean\")\n",
        "plt.legend()\n",
        "plt.title(\"Rewards vs Iterations\")\n",
        "plt.xlabel(\"Iterations\")\n",
        "plt.ylabel(\"Rewards\")\n",
        "plt.show()"
      ],
      "execution_count": null,
      "outputs": [
        {
          "output_type": "display_data",
          "data": {
            "image/png": "[encoded data removed]",
            "text/plain": [
              "<Figure size 432x288 with 1 Axes>"
            ]
          },
          "metadata": {
            "needs_background": "light"
          }
        }
      ]
    },
    {
      "cell_type": "markdown",
      "metadata": {
        "id": "mI9_P3O0DfhT"
      },
      "source": [
        "We see that the Policy Iteration algorithm converged at 14th iteration. Hence the value of N is 14, i.e., the number of iterations it took to converge.\n",
        "\n",
        "After each iteration, we have the intermediate policy obtained after policy improvement which is used to simulate episodes to check the learning of the agent. 20 episodes are simulated and the mean of returns observed is taken.\n",
        "\n",
        "We see that the learning curve is increase, i.e., the mean rewards is increasing through iterations. Hence, the agent is learning policies through iterations. We see that towards the end, the mean reward obtained is around 25."
      ]
    },
    {
      "cell_type": "code",
      "metadata": {
        "colab": {
          "base_uri": "https://localhost:8080/"
        },
        "id": "WkkRDqgsmeyU",
        "outputId": "7af2fbc8-f69c-46cf-fdc7-88979e5457b6"
      },
      "source": [
        "pi_agent.policy"
      ],
      "execution_count": null,
      "outputs": [
        {
          "output_type": "execute_result",
          "data": {
            "text/plain": [
              "array([1., 1., 1., 1., 1., 1., 1., 1., 1., 1., 1., 2., 1., 1., 1., 1., 1.,\n",
              "       1., 1., 1., 1., 1., 1., 2., 1., 1., 1., 1., 1., 1., 1., 1., 1., 1.,\n",
              "       1., 2., 0., 0., 0., 0., 0., 0., 0., 0., 0., 0., 0., 0.])"
            ]
          },
          "metadata": {},
          "execution_count": 231
        }
      ]
    },
    {
      "cell_type": "markdown",
      "metadata": {
        "id": "ixvU4b2NDgTx"
      },
      "source": [
        "We see that the optimal policy obtained after training the agent using Policy Iteration algorithm is indeed optimal. All the actions in every state are aigned towards the terminal state without falling into cliff."
      ]
    },
    {
      "cell_type": "markdown",
      "metadata": {
        "id": "ElBxG7mMKo1Q"
      },
      "source": [
        "# Confused Agent (random actions)"
      ]
    },
    {
      "cell_type": "code",
      "metadata": {
        "id": "HIvLbMeOKqPp"
      },
      "source": [
        "class ConfusedAgent():\n",
        "    '''\n",
        "    Models confused agent which selects actions randomly\n",
        "    '''\n",
        "    def __init__(self, env, params):\n",
        "        '''\n",
        "        Method to initialize the model\n",
        "\n",
        "        Input\n",
        "        -----\n",
        "        env    : Environment\n",
        "        params : Parameters\n",
        "        '''\n",
        "        self.env = env\n",
        "        self.nS = env.observation_space.n\n",
        "        self.nA = env.action_space.n\n",
        "        self.params = params\n",
        "\n",
        "        self.policy = np.random.randint(self.nA, size=self.nS)\n",
        "\n",
        "    def simulate(self):\n",
        "        '''\n",
        "        Method for simulating episode\n",
        "\n",
        "        Output\n",
        "        ------\n",
        "        ret: Return of the simulation\n",
        "        '''\n",
        "        ret = 0\n",
        "        state = self.env.reset()\n",
        "        done = False\n",
        "        iter = 0\n",
        "\n",
        "        while not done and iter < self.params[\"max_iters\"]:\n",
        "            action = self.env.action_space.sample()\n",
        "\n",
        "            obs, reward, done, info = self.env.step(action)\n",
        "            ret += reward\n",
        "\n",
        "            state = obs\n",
        "            iter += 1\n",
        "\n",
        "        return ret\n",
        "\n",
        "    def get_policy(self):\n",
        "        '''\n",
        "        Getter method for policy\n",
        "        '''\n",
        "        return policy\n",
        "\n",
        "    def get_policy_state(self, state):\n",
        "        '''\n",
        "        Getter method for policy of input state\n",
        "        '''\n",
        "        return self.policy[state]\n",
        "\n",
        "    def get_nS(self):\n",
        "        '''\n",
        "        Getter method for number of states\n",
        "        '''\n",
        "        return self.nS\n",
        "\n",
        "    def get_nA(self):\n",
        "        '''\n",
        "        Getter method for number of actions\n",
        "        '''\n",
        "        return self.nA"
      ],
      "execution_count": null,
      "outputs": []
    },
    {
      "cell_type": "code",
      "metadata": {
        "id": "Fjd1LjGQK5Bs"
      },
      "source": [
        "confused_agent = ConfusedAgent(env, params)"
      ],
      "execution_count": null,
      "outputs": []
    },
    {
      "cell_type": "markdown",
      "metadata": {
        "id": "j2hezbqwYvb4"
      },
      "source": [
        "# Comparing performance of agents"
      ]
    },
    {
      "cell_type": "code",
      "metadata": {
        "colab": {
          "base_uri": "https://localhost:8080/"
        },
        "id": "yZaAg8txYu9I",
        "outputId": "3b90c770-3a41-49ae-efa1-9a304a2feb26"
      },
      "source": [
        "vi_rew = []\n",
        "pi_rew = []\n",
        "cf_rew = []\n",
        "\n",
        "# Simulations on VI trained agent\n",
        "for i in range(100):\n",
        "    state = env.reset()\n",
        "    done = False\n",
        "    rew = 0\n",
        "\n",
        "    while not done:\n",
        "        obs, reward, done, info = env.step(vi_agent.get_policy_state(state))\n",
        "        rew += reward\n",
        "        state = obs\n",
        "    \n",
        "    vi_rew.append(rew)\n",
        "\n",
        "# Simulations on PI trained agent\n",
        "for i in range(100):\n",
        "    state = env.reset()\n",
        "    done = False\n",
        "    rew = 0\n",
        "\n",
        "    while not done:\n",
        "        obs, reward, done, info = env.step(pi_agent.get_policy_state(state))\n",
        "        rew += reward\n",
        "        state = obs\n",
        "    \n",
        "    pi_rew.append(rew)\n",
        "\n",
        "# Simulations on confused agent\n",
        "for i in range(100):\n",
        "    cf_rew.append(confused_agent.simulate())\n",
        "\n",
        "\n",
        "print(\"Reward from VI trained agent:\", np.mean(vi_rew))\n",
        "print(\"Reward from PI trained agent:\", np.mean(pi_rew))\n",
        "print(\"Reward from confused agent  :\", np.mean(cf_rew))"
      ],
      "execution_count": null,
      "outputs": [
        {
          "output_type": "stream",
          "name": "stdout",
          "text": [
            "Reward from VI trained agent: -13.0\n",
            "Reward from PI trained agent: -13.0\n",
            "Reward from confused agent  : -109.6\n"
          ]
        }
      ]
    },
    {
      "cell_type": "markdown",
      "metadata": {
        "id": "S8aYJD0WZgeJ"
      },
      "source": [
        "I have averaged the rewards obtained from 100 episodes generated from the trained agents. We can clearly see that agents trained using Value Iteration and Policy Iteration algorithms are doing better than the confused agent as the mean reward obtained by episode using confused agent is **-109.6**, whereas that of agents trained using VI and PI algorithms are **-13** each. This is the best reward obtained by following the optimal policy, i.e. traveling from start state to terminal state along the cliff. Hence, we see that VI and PI trained agents are doing perfectly well, whereas confused agent takes random steps due to which the convergence is slower and hence reward is lower. Hence, VI and PI trained agents are doing better than confused agent."
      ]
    },
    {
      "cell_type": "markdown",
      "metadata": {
        "id": "IBJL_qyCcN_z"
      },
      "source": [
        "# Discount Factor Analysis"
      ]
    },
    {
      "cell_type": "code",
      "metadata": {
        "id": "GgSkpCR_cRx5"
      },
      "source": [
        "all_gammas = [0, 0.1, 0.5, 0.7, 1]\n",
        "\n",
        "def print_policy(policy):\n",
        "    print(policy[:12])\n",
        "    print(policy[12:24])\n",
        "    print(policy[24:36])\n",
        "    print(policy[36:])"
      ],
      "execution_count": null,
      "outputs": []
    },
    {
      "cell_type": "code",
      "metadata": {
        "colab": {
          "base_uri": "https://localhost:8080/"
        },
        "id": "ahzuI0z3cX6G",
        "outputId": "d8f09378-d432-4566-f1cd-3ae293caa9e7"
      },
      "source": [
        "print(\"Agents trained using Value Iteration algorithm\\n\")\n",
        "\n",
        "for gam in all_gammas:\n",
        "    print(\"Discount factor (gamma):\", gam)\n",
        "\n",
        "    params1 = params\n",
        "    params1[\"discount\"] = gam\n",
        "\n",
        "    vi_agent = DPAgentValueIteration(env, params1)\n",
        "    _ = vi_agent.train_agent()\n",
        "\n",
        "    print_policy(vi_agent.policy)\n",
        "    print(\"\\n\\n\")"
      ],
      "execution_count": null,
      "outputs": [
        {
          "output_type": "stream",
          "name": "stdout",
          "text": [
            "Agents trained using Value Iteration algorithm\n",
            "\n",
            "Discount factor (gamma): 0\n",
            "Number of iterations taken to converge: 2 \n",
            "\n",
            "[0. 0. 0. 0. 0. 0. 0. 0. 0. 0. 0. 0.]\n",
            "[0. 0. 0. 0. 0. 0. 0. 0. 0. 0. 0. 0.]\n",
            "[0. 0. 0. 0. 0. 0. 0. 0. 0. 0. 0. 0.]\n",
            "[0. 0. 0. 0. 0. 0. 0. 0. 0. 0. 0. 0.]\n",
            "\n",
            "\n",
            "\n",
            "Discount factor (gamma): 0.1\n",
            "Number of iterations taken to converge: 5 \n",
            "\n",
            "[0. 0. 3. 0. 0. 0. 0. 3. 0. 1. 1. 2.]\n",
            "[0. 0. 0. 0. 0. 0. 0. 0. 1. 1. 1. 2.]\n",
            "[1. 3. 0. 1. 0. 0. 1. 1. 1. 1. 1. 2.]\n",
            "[0. 0. 0. 0. 0. 0. 0. 0. 0. 0. 0. 0.]\n",
            "\n",
            "\n",
            "\n",
            "Discount factor (gamma): 0.5\n",
            "Number of iterations taken to converge: 12 \n",
            "\n",
            "[0. 3. 1. 1. 1. 1. 1. 1. 1. 1. 1. 2.]\n",
            "[0. 1. 1. 1. 1. 1. 1. 1. 1. 1. 1. 2.]\n",
            "[1. 1. 1. 1. 1. 1. 1. 1. 1. 1. 1. 2.]\n",
            "[0. 0. 0. 0. 0. 0. 0. 0. 0. 0. 0. 0.]\n",
            "\n",
            "\n",
            "\n",
            "Discount factor (gamma): 0.7\n",
            "Number of iterations taken to converge: 16 \n",
            "\n",
            "[1. 1. 1. 1. 1. 1. 1. 1. 1. 1. 1. 2.]\n",
            "[1. 1. 1. 1. 1. 1. 1. 1. 1. 1. 1. 2.]\n",
            "[1. 1. 1. 1. 1. 1. 1. 1. 1. 1. 1. 2.]\n",
            "[0. 0. 0. 0. 0. 0. 0. 0. 0. 0. 0. 0.]\n",
            "\n",
            "\n",
            "\n",
            "Discount factor (gamma): 1\n",
            "Number of iterations taken to converge: 16 \n",
            "\n",
            "[1. 1. 1. 1. 1. 1. 1. 1. 1. 1. 1. 2.]\n",
            "[1. 1. 1. 1. 1. 1. 1. 1. 1. 1. 1. 2.]\n",
            "[1. 1. 1. 1. 1. 1. 1. 1. 1. 1. 1. 2.]\n",
            "[0. 0. 0. 0. 0. 0. 0. 0. 0. 0. 0. 0.]\n",
            "\n",
            "\n",
            "\n"
          ]
        }
      ]
    },
    {
      "cell_type": "code",
      "metadata": {
        "colab": {
          "base_uri": "https://localhost:8080/"
        },
        "id": "autSjEHafJeG",
        "outputId": "1d50dd0d-c366-4b1a-9ea3-45ee5cd4a9b5"
      },
      "source": [
        "print(\"Agents trained using Policy Iteration algorithm\\n\")\n",
        "\n",
        "for gam in all_gammas:\n",
        "    print(\"Discount factor (gamma):\", gam)\n",
        "\n",
        "    params1 = params\n",
        "    params1[\"discount\"] = gam\n",
        "\n",
        "    pi_agent = DPAgentPolicyIteration(env, params1)\n",
        "    _ = pi_agent.train_agent()\n",
        "\n",
        "    print_policy(pi_agent.policy)\n",
        "    print(\"\\n\\n\")"
      ],
      "execution_count": null,
      "outputs": [
        {
          "output_type": "stream",
          "name": "stdout",
          "text": [
            "Agents trained using Policy Iteration algorithm\n",
            "\n",
            "Discount factor (gamma): 0\n",
            "Number of iterations taken for convergence: 1 \n",
            "\n",
            "[0. 0. 0. 0. 0. 0. 0. 0. 0. 0. 0. 0.]\n",
            "[0. 0. 0. 0. 0. 0. 0. 0. 0. 0. 0. 0.]\n",
            "[0. 0. 0. 0. 0. 0. 0. 0. 0. 0. 0. 0.]\n",
            "[0. 0. 0. 0. 0. 0. 0. 0. 0. 0. 0. 0.]\n",
            "\n",
            "\n",
            "\n",
            "Discount factor (gamma): 0.1\n",
            "Number of iterations taken for convergence: 100 \n",
            "\n",
            "[0. 3. 1. 0. 0. 3. 3. 0. 3. 1. 1. 2.]\n",
            "[0. 0. 0. 0. 0. 0. 0. 0. 1. 1. 1. 2.]\n",
            "[0. 0. 0. 0. 0. 0. 1. 1. 1. 1. 1. 2.]\n",
            "[0. 0. 0. 0. 0. 0. 0. 0. 0. 0. 0. 0.]\n",
            "\n",
            "\n",
            "\n",
            "Discount factor (gamma): 0.5\n",
            "Number of iterations taken for convergence: 12 \n",
            "\n",
            "[0. 3. 1. 1. 1. 1. 1. 1. 1. 1. 1. 2.]\n",
            "[0. 1. 1. 1. 1. 1. 1. 1. 1. 1. 1. 2.]\n",
            "[1. 1. 1. 1. 1. 1. 1. 1. 1. 1. 1. 2.]\n",
            "[0. 0. 0. 0. 0. 0. 0. 0. 0. 0. 0. 0.]\n",
            "\n",
            "\n",
            "\n",
            "Discount factor (gamma): 0.7\n",
            "Number of iterations taken for convergence: 12 \n",
            "\n",
            "[1. 1. 1. 1. 1. 1. 1. 1. 1. 1. 1. 2.]\n",
            "[1. 1. 1. 1. 1. 1. 1. 1. 1. 1. 1. 2.]\n",
            "[1. 1. 1. 1. 1. 1. 1. 1. 1. 1. 1. 2.]\n",
            "[0. 0. 0. 0. 0. 0. 0. 0. 0. 0. 0. 0.]\n",
            "\n",
            "\n",
            "\n",
            "Discount factor (gamma): 1\n",
            "Number of iterations taken for convergence: 11 \n",
            "\n",
            "[1. 1. 1. 1. 1. 1. 1. 1. 1. 1. 1. 2.]\n",
            "[1. 1. 1. 1. 1. 1. 1. 1. 1. 1. 1. 2.]\n",
            "[1. 1. 1. 1. 1. 1. 1. 1. 1. 1. 1. 2.]\n",
            "[0. 0. 0. 0. 0. 0. 0. 0. 0. 0. 0. 0.]\n",
            "\n",
            "\n",
            "\n"
          ]
        }
      ]
    },
    {
      "cell_type": "markdown",
      "metadata": {
        "id": "_rb5FFrtdT11"
      },
      "source": [
        "The above policies are obtained by training the agents using Value Iteration algorithm and Policy Iteration algorithm. We see that policies obtained by these two agents are almost similar for all discount factors.\n",
        "\n",
        "### Discount factor 0\n",
        "\n",
        "We see that all states have the policy (action) as 0 for gamma 0. This is the case for both agents trained by VI and PI. That means the agent hasn't learnt anything. The number of iterations taken to converge is also only **2/1** in VI/PI, which also shows that the agent didn't learn anything. This is because when gamma is 0, the agent becomes myopic (looks at only immediate rewards), due to which it didn't bother about future rewards and looked at current immediate rewards. But as we initialize state values with 0s, it converged in 1 step. Hence, discount factor os 0 will make the agent myopic and hence the convergence will not be guaranteed, because it doesn't care if the terminal state has to be reached.\n",
        "\n",
        "### Discount factor 0.1\n",
        "We see that when discount factor (gamma) is 0.1, some states have updated their policies (best actions) in both agents VI/PI. We can see that one third of right most states, all have policy (determinstic action) as optimal actions to be taken to reach terminal state. Right most staes have action as 2 (down) which is required to reach state 47. Similary all other states in one third of right most states have action as 1 (right), which is required to reach the last column state, which lead to terminal state 47. But we can also see that many other states have 3s and 0s, which are not optimal actions, mainly the left two thirds of states. But lower discount factor constrains the agent to finish quicker due to which it finds suboptimal actions which leads to other states than terminal states which are nearer to those states and which maximize the rewards. Hence, states which are farther from terminal states doesn't get updated with optimal policy. Only neared states are updated with optimal policy.\n",
        "\n",
        "### Discount factor 0.5\n",
        "For discount factor 0.5, we see that now almost all states have optimal policy, except for states 0, 1 and 12 which are the most distant states from the terminal state. This is the case for both agents trained using VI/PI algorithms. Hence, we see that as the discount factor is increase the states farther from terminal states are updated with optimal policy based on distance.\n",
        "\n",
        "### Discount factor 0.7\n",
        "For discount factor 0.7, we see that for both agents trained using VI and PI, all states have optmial policy, i.e., from any states, it takes the shortest path to reach the terminal states and hence maximizing the reward.\n",
        "\n",
        "### Discount factor 1\n",
        "For discount factor 1 also, we see that for both agents trained using VI and PI, all states have optimal policy. But we also see that Policy Iteration algorithm converged after 100 iterations (which is upper limit fed into the agent). However, we saw that the agent was stuck in policy evaluation stage, where it computes the state values corresponding to input policy. Discount factor 0 means the agent can take infinite time to finish the episode and hence, it was stuck in infinite loop, while evaluating a policy. Hence, discount factor 1 can have issues with convergence (infinite horizon or slow convergence).\n",
        "\n",
        "## Analysis\n",
        "Hence, we saw that discount factor has an impact on convergence, path of the agent from any state and optimal policy. We see that lower discount factor can have longer paths from distant states to terminal state (because distant states are updated with suboptimal policy), whereas for higher discount factors, all states have optimal policy and hence shortest path to terminal state from any state. However, keeping discount factor as 1 can lead to issues with convergence."
      ]
    }
  ]
}