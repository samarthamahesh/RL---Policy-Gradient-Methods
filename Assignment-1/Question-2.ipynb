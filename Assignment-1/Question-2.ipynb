{
  "nbformat": 4,
  "nbformat_minor": 0,
  "metadata": {
    "colab": {
      "name": "TML Assign-1 (Q2)",
      "provenance": [],
      "collapsed_sections": []
    },
    "kernelspec": {
      "name": "python3",
      "display_name": "Python 3"
    },
    "language_info": {
      "name": "python"
    },
    "widgets": {
      "application/vnd.jupyter.widget-state+json": {
        "67bd3c68a7d24bc8bf6162edb98b9fda": {
          "model_module": "@jupyter-widgets/controls",
          "model_name": "HBoxModel",
          "model_module_version": "1.5.0",
          "state": {
            "_view_name": "HBoxView",
            "_dom_classes": [],
            "_model_name": "HBoxModel",
            "_view_module": "@jupyter-widgets/controls",
            "_model_module_version": "1.5.0",
            "_view_count": null,
            "_view_module_version": "1.5.0",
            "box_style": "",
            "layout": "IPY_MODEL_6e846280d68c4bb69a744129cb9a878e",
            "_model_module": "@jupyter-widgets/controls",
            "children": [
              "IPY_MODEL_5c22c4d879f148d69286c26b57e972ec",
              "IPY_MODEL_9844e2d1198d4634bee06d2516e5f13c",
              "IPY_MODEL_7f5f4ed612d846c9b793a6ed75624d5b"
            ]
          }
        },
        "6e846280d68c4bb69a744129cb9a878e": {
          "model_module": "@jupyter-widgets/base",
          "model_name": "LayoutModel",
          "model_module_version": "1.2.0",
          "state": {
            "_view_name": "LayoutView",
            "grid_template_rows": null,
            "right": null,
            "justify_content": null,
            "_view_module": "@jupyter-widgets/base",
            "overflow": null,
            "_model_module_version": "1.2.0",
            "_view_count": null,
            "flex_flow": null,
            "width": null,
            "min_width": null,
            "border": null,
            "align_items": null,
            "bottom": null,
            "_model_module": "@jupyter-widgets/base",
            "top": null,
            "grid_column": null,
            "overflow_y": null,
            "overflow_x": null,
            "grid_auto_flow": null,
            "grid_area": null,
            "grid_template_columns": null,
            "flex": null,
            "_model_name": "LayoutModel",
            "justify_items": null,
            "grid_row": null,
            "max_height": null,
            "align_content": null,
            "visibility": null,
            "align_self": null,
            "height": null,
            "min_height": null,
            "padding": null,
            "grid_auto_rows": null,
            "grid_gap": null,
            "max_width": null,
            "order": null,
            "_view_module_version": "1.2.0",
            "grid_template_areas": null,
            "object_position": null,
            "object_fit": null,
            "grid_auto_columns": null,
            "margin": null,
            "display": null,
            "left": null
          }
        },
        "5c22c4d879f148d69286c26b57e972ec": {
          "model_module": "@jupyter-widgets/controls",
          "model_name": "HTMLModel",
          "model_module_version": "1.5.0",
          "state": {
            "_view_name": "HTMLView",
            "style": "IPY_MODEL_4e0d31e3a507491985aa248f0a036676",
            "_dom_classes": [],
            "description": "",
            "_model_name": "HTMLModel",
            "placeholder": "​",
            "_view_module": "@jupyter-widgets/controls",
            "_model_module_version": "1.5.0",
            "value": "100%",
            "_view_count": null,
            "_view_module_version": "1.5.0",
            "description_tooltip": null,
            "_model_module": "@jupyter-widgets/controls",
            "layout": "IPY_MODEL_911afab9a73e401f90d5645fe25d4c4b"
          }
        },
        "9844e2d1198d4634bee06d2516e5f13c": {
          "model_module": "@jupyter-widgets/controls",
          "model_name": "FloatProgressModel",
          "model_module_version": "1.5.0",
          "state": {
            "_view_name": "ProgressView",
            "style": "IPY_MODEL_33616aec3be04ea988a4b9dddfed8526",
            "_dom_classes": [],
            "description": "",
            "_model_name": "FloatProgressModel",
            "bar_style": "success",
            "max": 10,
            "_view_module": "@jupyter-widgets/controls",
            "_model_module_version": "1.5.0",
            "value": 10,
            "_view_count": null,
            "_view_module_version": "1.5.0",
            "orientation": "horizontal",
            "min": 0,
            "description_tooltip": null,
            "_model_module": "@jupyter-widgets/controls",
            "layout": "IPY_MODEL_b16f506af14048359948d1559d5267de"
          }
        },
        "7f5f4ed612d846c9b793a6ed75624d5b": {
          "model_module": "@jupyter-widgets/controls",
          "model_name": "HTMLModel",
          "model_module_version": "1.5.0",
          "state": {
            "_view_name": "HTMLView",
            "style": "IPY_MODEL_217659e3a0854e4287bd5534da30b9cf",
            "_dom_classes": [],
            "description": "",
            "_model_name": "HTMLModel",
            "placeholder": "​",
            "_view_module": "@jupyter-widgets/controls",
            "_model_module_version": "1.5.0",
            "value": " 10/10 [00:02&lt;00:00,  2.09s/it]",
            "_view_count": null,
            "_view_module_version": "1.5.0",
            "description_tooltip": null,
            "_model_module": "@jupyter-widgets/controls",
            "layout": "IPY_MODEL_785d85495ffd474f8a54be5979771889"
          }
        },
        "4e0d31e3a507491985aa248f0a036676": {
          "model_module": "@jupyter-widgets/controls",
          "model_name": "DescriptionStyleModel",
          "model_module_version": "1.5.0",
          "state": {
            "_view_name": "StyleView",
            "_model_name": "DescriptionStyleModel",
            "description_width": "",
            "_view_module": "@jupyter-widgets/base",
            "_model_module_version": "1.5.0",
            "_view_count": null,
            "_view_module_version": "1.2.0",
            "_model_module": "@jupyter-widgets/controls"
          }
        },
        "911afab9a73e401f90d5645fe25d4c4b": {
          "model_module": "@jupyter-widgets/base",
          "model_name": "LayoutModel",
          "model_module_version": "1.2.0",
          "state": {
            "_view_name": "LayoutView",
            "grid_template_rows": null,
            "right": null,
            "justify_content": null,
            "_view_module": "@jupyter-widgets/base",
            "overflow": null,
            "_model_module_version": "1.2.0",
            "_view_count": null,
            "flex_flow": null,
            "width": null,
            "min_width": null,
            "border": null,
            "align_items": null,
            "bottom": null,
            "_model_module": "@jupyter-widgets/base",
            "top": null,
            "grid_column": null,
            "overflow_y": null,
            "overflow_x": null,
            "grid_auto_flow": null,
            "grid_area": null,
            "grid_template_columns": null,
            "flex": null,
            "_model_name": "LayoutModel",
            "justify_items": null,
            "grid_row": null,
            "max_height": null,
            "align_content": null,
            "visibility": null,
            "align_self": null,
            "height": null,
            "min_height": null,
            "padding": null,
            "grid_auto_rows": null,
            "grid_gap": null,
            "max_width": null,
            "order": null,
            "_view_module_version": "1.2.0",
            "grid_template_areas": null,
            "object_position": null,
            "object_fit": null,
            "grid_auto_columns": null,
            "margin": null,
            "display": null,
            "left": null
          }
        },
        "33616aec3be04ea988a4b9dddfed8526": {
          "model_module": "@jupyter-widgets/controls",
          "model_name": "ProgressStyleModel",
          "model_module_version": "1.5.0",
          "state": {
            "_view_name": "StyleView",
            "_model_name": "ProgressStyleModel",
            "description_width": "",
            "_view_module": "@jupyter-widgets/base",
            "_model_module_version": "1.5.0",
            "_view_count": null,
            "_view_module_version": "1.2.0",
            "bar_color": null,
            "_model_module": "@jupyter-widgets/controls"
          }
        },
        "b16f506af14048359948d1559d5267de": {
          "model_module": "@jupyter-widgets/base",
          "model_name": "LayoutModel",
          "model_module_version": "1.2.0",
          "state": {
            "_view_name": "LayoutView",
            "grid_template_rows": null,
            "right": null,
            "justify_content": null,
            "_view_module": "@jupyter-widgets/base",
            "overflow": null,
            "_model_module_version": "1.2.0",
            "_view_count": null,
            "flex_flow": null,
            "width": null,
            "min_width": null,
            "border": null,
            "align_items": null,
            "bottom": null,
            "_model_module": "@jupyter-widgets/base",
            "top": null,
            "grid_column": null,
            "overflow_y": null,
            "overflow_x": null,
            "grid_auto_flow": null,
            "grid_area": null,
            "grid_template_columns": null,
            "flex": null,
            "_model_name": "LayoutModel",
            "justify_items": null,
            "grid_row": null,
            "max_height": null,
            "align_content": null,
            "visibility": null,
            "align_self": null,
            "height": null,
            "min_height": null,
            "padding": null,
            "grid_auto_rows": null,
            "grid_gap": null,
            "max_width": null,
            "order": null,
            "_view_module_version": "1.2.0",
            "grid_template_areas": null,
            "object_position": null,
            "object_fit": null,
            "grid_auto_columns": null,
            "margin": null,
            "display": null,
            "left": null
          }
        },
        "217659e3a0854e4287bd5534da30b9cf": {
          "model_module": "@jupyter-widgets/controls",
          "model_name": "DescriptionStyleModel",
          "model_module_version": "1.5.0",
          "state": {
            "_view_name": "StyleView",
            "_model_name": "DescriptionStyleModel",
            "description_width": "",
            "_view_module": "@jupyter-widgets/base",
            "_model_module_version": "1.5.0",
            "_view_count": null,
            "_view_module_version": "1.2.0",
            "_model_module": "@jupyter-widgets/controls"
          }
        },
        "785d85495ffd474f8a54be5979771889": {
          "model_module": "@jupyter-widgets/base",
          "model_name": "LayoutModel",
          "model_module_version": "1.2.0",
          "state": {
            "_view_name": "LayoutView",
            "grid_template_rows": null,
            "right": null,
            "justify_content": null,
            "_view_module": "@jupyter-widgets/base",
            "overflow": null,
            "_model_module_version": "1.2.0",
            "_view_count": null,
            "flex_flow": null,
            "width": null,
            "min_width": null,
            "border": null,
            "align_items": null,
            "bottom": null,
            "_model_module": "@jupyter-widgets/base",
            "top": null,
            "grid_column": null,
            "overflow_y": null,
            "overflow_x": null,
            "grid_auto_flow": null,
            "grid_area": null,
            "grid_template_columns": null,
            "flex": null,
            "_model_name": "LayoutModel",
            "justify_items": null,
            "grid_row": null,
            "max_height": null,
            "align_content": null,
            "visibility": null,
            "align_self": null,
            "height": null,
            "min_height": null,
            "padding": null,
            "grid_auto_rows": null,
            "grid_gap": null,
            "max_width": null,
            "order": null,
            "_view_module_version": "1.2.0",
            "grid_template_areas": null,
            "object_position": null,
            "object_fit": null,
            "grid_auto_columns": null,
            "margin": null,
            "display": null,
            "left": null
          }
        },
        "272b18f7b3bb4c4abcacf434aaf504a9": {
          "model_module": "@jupyter-widgets/controls",
          "model_name": "HBoxModel",
          "model_module_version": "1.5.0",
          "state": {
            "_view_name": "HBoxView",
            "_dom_classes": [],
            "_model_name": "HBoxModel",
            "_view_module": "@jupyter-widgets/controls",
            "_model_module_version": "1.5.0",
            "_view_count": null,
            "_view_module_version": "1.5.0",
            "box_style": "",
            "layout": "IPY_MODEL_3eb1ee3f4b324f84bfa584b36e68250e",
            "_model_module": "@jupyter-widgets/controls",
            "children": [
              "IPY_MODEL_01798cea03a940ff88d0663e298af182",
              "IPY_MODEL_87c2019ad9cc411faa5b3caaca7318bb",
              "IPY_MODEL_225b43ddc06c41ef9e4568468bb6d325"
            ]
          }
        },
        "3eb1ee3f4b324f84bfa584b36e68250e": {
          "model_module": "@jupyter-widgets/base",
          "model_name": "LayoutModel",
          "model_module_version": "1.2.0",
          "state": {
            "_view_name": "LayoutView",
            "grid_template_rows": null,
            "right": null,
            "justify_content": null,
            "_view_module": "@jupyter-widgets/base",
            "overflow": null,
            "_model_module_version": "1.2.0",
            "_view_count": null,
            "flex_flow": null,
            "width": null,
            "min_width": null,
            "border": null,
            "align_items": null,
            "bottom": null,
            "_model_module": "@jupyter-widgets/base",
            "top": null,
            "grid_column": null,
            "overflow_y": null,
            "overflow_x": null,
            "grid_auto_flow": null,
            "grid_area": null,
            "grid_template_columns": null,
            "flex": null,
            "_model_name": "LayoutModel",
            "justify_items": null,
            "grid_row": null,
            "max_height": null,
            "align_content": null,
            "visibility": null,
            "align_self": null,
            "height": null,
            "min_height": null,
            "padding": null,
            "grid_auto_rows": null,
            "grid_gap": null,
            "max_width": null,
            "order": null,
            "_view_module_version": "1.2.0",
            "grid_template_areas": null,
            "object_position": null,
            "object_fit": null,
            "grid_auto_columns": null,
            "margin": null,
            "display": null,
            "left": null
          }
        },
        "01798cea03a940ff88d0663e298af182": {
          "model_module": "@jupyter-widgets/controls",
          "model_name": "HTMLModel",
          "model_module_version": "1.5.0",
          "state": {
            "_view_name": "HTMLView",
            "style": "IPY_MODEL_9d5c1846ba934f6db4941ab60eba569c",
            "_dom_classes": [],
            "description": "",
            "_model_name": "HTMLModel",
            "placeholder": "​",
            "_view_module": "@jupyter-widgets/controls",
            "_model_module_version": "1.5.0",
            "value": "100%",
            "_view_count": null,
            "_view_module_version": "1.5.0",
            "description_tooltip": null,
            "_model_module": "@jupyter-widgets/controls",
            "layout": "IPY_MODEL_410e387d301246ef8da9d2ed8c9b67af"
          }
        },
        "87c2019ad9cc411faa5b3caaca7318bb": {
          "model_module": "@jupyter-widgets/controls",
          "model_name": "FloatProgressModel",
          "model_module_version": "1.5.0",
          "state": {
            "_view_name": "ProgressView",
            "style": "IPY_MODEL_f7275b8df7fc4a958c1f443ea332f047",
            "_dom_classes": [],
            "description": "",
            "_model_name": "FloatProgressModel",
            "bar_style": "success",
            "max": 15,
            "_view_module": "@jupyter-widgets/controls",
            "_model_module_version": "1.5.0",
            "value": 15,
            "_view_count": null,
            "_view_module_version": "1.5.0",
            "orientation": "horizontal",
            "min": 0,
            "description_tooltip": null,
            "_model_module": "@jupyter-widgets/controls",
            "layout": "IPY_MODEL_4847766cd2b1454dad93584b674f6d65"
          }
        },
        "225b43ddc06c41ef9e4568468bb6d325": {
          "model_module": "@jupyter-widgets/controls",
          "model_name": "HTMLModel",
          "model_module_version": "1.5.0",
          "state": {
            "_view_name": "HTMLView",
            "style": "IPY_MODEL_6e1d3187c6f24ed2bad69b95483b769b",
            "_dom_classes": [],
            "description": "",
            "_model_name": "HTMLModel",
            "placeholder": "​",
            "_view_module": "@jupyter-widgets/controls",
            "_model_module_version": "1.5.0",
            "value": " 15/15 [00:04&lt;00:00,  3.07it/s]",
            "_view_count": null,
            "_view_module_version": "1.5.0",
            "description_tooltip": null,
            "_model_module": "@jupyter-widgets/controls",
            "layout": "IPY_MODEL_4f6b523bc041456f893c68f9e8a14ad7"
          }
        },
        "9d5c1846ba934f6db4941ab60eba569c": {
          "model_module": "@jupyter-widgets/controls",
          "model_name": "DescriptionStyleModel",
          "model_module_version": "1.5.0",
          "state": {
            "_view_name": "StyleView",
            "_model_name": "DescriptionStyleModel",
            "description_width": "",
            "_view_module": "@jupyter-widgets/base",
            "_model_module_version": "1.5.0",
            "_view_count": null,
            "_view_module_version": "1.2.0",
            "_model_module": "@jupyter-widgets/controls"
          }
        },
        "410e387d301246ef8da9d2ed8c9b67af": {
          "model_module": "@jupyter-widgets/base",
          "model_name": "LayoutModel",
          "model_module_version": "1.2.0",
          "state": {
            "_view_name": "LayoutView",
            "grid_template_rows": null,
            "right": null,
            "justify_content": null,
            "_view_module": "@jupyter-widgets/base",
            "overflow": null,
            "_model_module_version": "1.2.0",
            "_view_count": null,
            "flex_flow": null,
            "width": null,
            "min_width": null,
            "border": null,
            "align_items": null,
            "bottom": null,
            "_model_module": "@jupyter-widgets/base",
            "top": null,
            "grid_column": null,
            "overflow_y": null,
            "overflow_x": null,
            "grid_auto_flow": null,
            "grid_area": null,
            "grid_template_columns": null,
            "flex": null,
            "_model_name": "LayoutModel",
            "justify_items": null,
            "grid_row": null,
            "max_height": null,
            "align_content": null,
            "visibility": null,
            "align_self": null,
            "height": null,
            "min_height": null,
            "padding": null,
            "grid_auto_rows": null,
            "grid_gap": null,
            "max_width": null,
            "order": null,
            "_view_module_version": "1.2.0",
            "grid_template_areas": null,
            "object_position": null,
            "object_fit": null,
            "grid_auto_columns": null,
            "margin": null,
            "display": null,
            "left": null
          }
        },
        "f7275b8df7fc4a958c1f443ea332f047": {
          "model_module": "@jupyter-widgets/controls",
          "model_name": "ProgressStyleModel",
          "model_module_version": "1.5.0",
          "state": {
            "_view_name": "StyleView",
            "_model_name": "ProgressStyleModel",
            "description_width": "",
            "_view_module": "@jupyter-widgets/base",
            "_model_module_version": "1.5.0",
            "_view_count": null,
            "_view_module_version": "1.2.0",
            "bar_color": null,
            "_model_module": "@jupyter-widgets/controls"
          }
        },
        "4847766cd2b1454dad93584b674f6d65": {
          "model_module": "@jupyter-widgets/base",
          "model_name": "LayoutModel",
          "model_module_version": "1.2.0",
          "state": {
            "_view_name": "LayoutView",
            "grid_template_rows": null,
            "right": null,
            "justify_content": null,
            "_view_module": "@jupyter-widgets/base",
            "overflow": null,
            "_model_module_version": "1.2.0",
            "_view_count": null,
            "flex_flow": null,
            "width": null,
            "min_width": null,
            "border": null,
            "align_items": null,
            "bottom": null,
            "_model_module": "@jupyter-widgets/base",
            "top": null,
            "grid_column": null,
            "overflow_y": null,
            "overflow_x": null,
            "grid_auto_flow": null,
            "grid_area": null,
            "grid_template_columns": null,
            "flex": null,
            "_model_name": "LayoutModel",
            "justify_items": null,
            "grid_row": null,
            "max_height": null,
            "align_content": null,
            "visibility": null,
            "align_self": null,
            "height": null,
            "min_height": null,
            "padding": null,
            "grid_auto_rows": null,
            "grid_gap": null,
            "max_width": null,
            "order": null,
            "_view_module_version": "1.2.0",
            "grid_template_areas": null,
            "object_position": null,
            "object_fit": null,
            "grid_auto_columns": null,
            "margin": null,
            "display": null,
            "left": null
          }
        },
        "6e1d3187c6f24ed2bad69b95483b769b": {
          "model_module": "@jupyter-widgets/controls",
          "model_name": "DescriptionStyleModel",
          "model_module_version": "1.5.0",
          "state": {
            "_view_name": "StyleView",
            "_model_name": "DescriptionStyleModel",
            "description_width": "",
            "_view_module": "@jupyter-widgets/base",
            "_model_module_version": "1.5.0",
            "_view_count": null,
            "_view_module_version": "1.2.0",
            "_model_module": "@jupyter-widgets/controls"
          }
        },
        "4f6b523bc041456f893c68f9e8a14ad7": {
          "model_module": "@jupyter-widgets/base",
          "model_name": "LayoutModel",
          "model_module_version": "1.2.0",
          "state": {
            "_view_name": "LayoutView",
            "grid_template_rows": null,
            "right": null,
            "justify_content": null,
            "_view_module": "@jupyter-widgets/base",
            "overflow": null,
            "_model_module_version": "1.2.0",
            "_view_count": null,
            "flex_flow": null,
            "width": null,
            "min_width": null,
            "border": null,
            "align_items": null,
            "bottom": null,
            "_model_module": "@jupyter-widgets/base",
            "top": null,
            "grid_column": null,
            "overflow_y": null,
            "overflow_x": null,
            "grid_auto_flow": null,
            "grid_area": null,
            "grid_template_columns": null,
            "flex": null,
            "_model_name": "LayoutModel",
            "justify_items": null,
            "grid_row": null,
            "max_height": null,
            "align_content": null,
            "visibility": null,
            "align_self": null,
            "height": null,
            "min_height": null,
            "padding": null,
            "grid_auto_rows": null,
            "grid_gap": null,
            "max_width": null,
            "order": null,
            "_view_module_version": "1.2.0",
            "grid_template_areas": null,
            "object_position": null,
            "object_fit": null,
            "grid_auto_columns": null,
            "margin": null,
            "display": null,
            "left": null
          }
        },
        "3564aafe9c7644e29e3fed4dccba7794": {
          "model_module": "@jupyter-widgets/controls",
          "model_name": "HBoxModel",
          "model_module_version": "1.5.0",
          "state": {
            "_view_name": "HBoxView",
            "_dom_classes": [],
            "_model_name": "HBoxModel",
            "_view_module": "@jupyter-widgets/controls",
            "_model_module_version": "1.5.0",
            "_view_count": null,
            "_view_module_version": "1.5.0",
            "box_style": "",
            "layout": "IPY_MODEL_24e17637ce734f5681910af82eedbff4",
            "_model_module": "@jupyter-widgets/controls",
            "children": [
              "IPY_MODEL_c0cac318b3c441978f3fa8970a988d5f",
              "IPY_MODEL_fa26f408910c44a28ac0ea18708d92a5",
              "IPY_MODEL_695ada0547d54926b14d9ac1378054b3"
            ]
          }
        },
        "24e17637ce734f5681910af82eedbff4": {
          "model_module": "@jupyter-widgets/base",
          "model_name": "LayoutModel",
          "model_module_version": "1.2.0",
          "state": {
            "_view_name": "LayoutView",
            "grid_template_rows": null,
            "right": null,
            "justify_content": null,
            "_view_module": "@jupyter-widgets/base",
            "overflow": null,
            "_model_module_version": "1.2.0",
            "_view_count": null,
            "flex_flow": null,
            "width": null,
            "min_width": null,
            "border": null,
            "align_items": null,
            "bottom": null,
            "_model_module": "@jupyter-widgets/base",
            "top": null,
            "grid_column": null,
            "overflow_y": null,
            "overflow_x": null,
            "grid_auto_flow": null,
            "grid_area": null,
            "grid_template_columns": null,
            "flex": null,
            "_model_name": "LayoutModel",
            "justify_items": null,
            "grid_row": null,
            "max_height": null,
            "align_content": null,
            "visibility": null,
            "align_self": null,
            "height": null,
            "min_height": null,
            "padding": null,
            "grid_auto_rows": null,
            "grid_gap": null,
            "max_width": null,
            "order": null,
            "_view_module_version": "1.2.0",
            "grid_template_areas": null,
            "object_position": null,
            "object_fit": null,
            "grid_auto_columns": null,
            "margin": null,
            "display": null,
            "left": null
          }
        },
        "c0cac318b3c441978f3fa8970a988d5f": {
          "model_module": "@jupyter-widgets/controls",
          "model_name": "HTMLModel",
          "model_module_version": "1.5.0",
          "state": {
            "_view_name": "HTMLView",
            "style": "IPY_MODEL_d1282bdb9cce4d19b4d1060b1abec7be",
            "_dom_classes": [],
            "description": "",
            "_model_name": "HTMLModel",
            "placeholder": "​",
            "_view_module": "@jupyter-widgets/controls",
            "_model_module_version": "1.5.0",
            "value": "100%",
            "_view_count": null,
            "_view_module_version": "1.5.0",
            "description_tooltip": null,
            "_model_module": "@jupyter-widgets/controls",
            "layout": "IPY_MODEL_eeeb38a5c42047059f3c06a346050596"
          }
        },
        "fa26f408910c44a28ac0ea18708d92a5": {
          "model_module": "@jupyter-widgets/controls",
          "model_name": "FloatProgressModel",
          "model_module_version": "1.5.0",
          "state": {
            "_view_name": "ProgressView",
            "style": "IPY_MODEL_6506abd38a724e17a55804de75f71afa",
            "_dom_classes": [],
            "description": "",
            "_model_name": "FloatProgressModel",
            "bar_style": "success",
            "max": 10,
            "_view_module": "@jupyter-widgets/controls",
            "_model_module_version": "1.5.0",
            "value": 10,
            "_view_count": null,
            "_view_module_version": "1.5.0",
            "orientation": "horizontal",
            "min": 0,
            "description_tooltip": null,
            "_model_module": "@jupyter-widgets/controls",
            "layout": "IPY_MODEL_56f90e3a54654cd3a9799c6e7b1a1bf0"
          }
        },
        "695ada0547d54926b14d9ac1378054b3": {
          "model_module": "@jupyter-widgets/controls",
          "model_name": "HTMLModel",
          "model_module_version": "1.5.0",
          "state": {
            "_view_name": "HTMLView",
            "style": "IPY_MODEL_a21d5d11a9a14bc29979a01bddee9d90",
            "_dom_classes": [],
            "description": "",
            "_model_name": "HTMLModel",
            "placeholder": "​",
            "_view_module": "@jupyter-widgets/controls",
            "_model_module_version": "1.5.0",
            "value": " 10/10 [00:00&lt;00:00, 119.22it/s]",
            "_view_count": null,
            "_view_module_version": "1.5.0",
            "description_tooltip": null,
            "_model_module": "@jupyter-widgets/controls",
            "layout": "IPY_MODEL_d7a0ee05e91b4d15b926b46a2df24bf4"
          }
        },
        "d1282bdb9cce4d19b4d1060b1abec7be": {
          "model_module": "@jupyter-widgets/controls",
          "model_name": "DescriptionStyleModel",
          "model_module_version": "1.5.0",
          "state": {
            "_view_name": "StyleView",
            "_model_name": "DescriptionStyleModel",
            "description_width": "",
            "_view_module": "@jupyter-widgets/base",
            "_model_module_version": "1.5.0",
            "_view_count": null,
            "_view_module_version": "1.2.0",
            "_model_module": "@jupyter-widgets/controls"
          }
        },
        "eeeb38a5c42047059f3c06a346050596": {
          "model_module": "@jupyter-widgets/base",
          "model_name": "LayoutModel",
          "model_module_version": "1.2.0",
          "state": {
            "_view_name": "LayoutView",
            "grid_template_rows": null,
            "right": null,
            "justify_content": null,
            "_view_module": "@jupyter-widgets/base",
            "overflow": null,
            "_model_module_version": "1.2.0",
            "_view_count": null,
            "flex_flow": null,
            "width": null,
            "min_width": null,
            "border": null,
            "align_items": null,
            "bottom": null,
            "_model_module": "@jupyter-widgets/base",
            "top": null,
            "grid_column": null,
            "overflow_y": null,
            "overflow_x": null,
            "grid_auto_flow": null,
            "grid_area": null,
            "grid_template_columns": null,
            "flex": null,
            "_model_name": "LayoutModel",
            "justify_items": null,
            "grid_row": null,
            "max_height": null,
            "align_content": null,
            "visibility": null,
            "align_self": null,
            "height": null,
            "min_height": null,
            "padding": null,
            "grid_auto_rows": null,
            "grid_gap": null,
            "max_width": null,
            "order": null,
            "_view_module_version": "1.2.0",
            "grid_template_areas": null,
            "object_position": null,
            "object_fit": null,
            "grid_auto_columns": null,
            "margin": null,
            "display": null,
            "left": null
          }
        },
        "6506abd38a724e17a55804de75f71afa": {
          "model_module": "@jupyter-widgets/controls",
          "model_name": "ProgressStyleModel",
          "model_module_version": "1.5.0",
          "state": {
            "_view_name": "StyleView",
            "_model_name": "ProgressStyleModel",
            "description_width": "",
            "_view_module": "@jupyter-widgets/base",
            "_model_module_version": "1.5.0",
            "_view_count": null,
            "_view_module_version": "1.2.0",
            "bar_color": null,
            "_model_module": "@jupyter-widgets/controls"
          }
        },
        "56f90e3a54654cd3a9799c6e7b1a1bf0": {
          "model_module": "@jupyter-widgets/base",
          "model_name": "LayoutModel",
          "model_module_version": "1.2.0",
          "state": {
            "_view_name": "LayoutView",
            "grid_template_rows": null,
            "right": null,
            "justify_content": null,
            "_view_module": "@jupyter-widgets/base",
            "overflow": null,
            "_model_module_version": "1.2.0",
            "_view_count": null,
            "flex_flow": null,
            "width": null,
            "min_width": null,
            "border": null,
            "align_items": null,
            "bottom": null,
            "_model_module": "@jupyter-widgets/base",
            "top": null,
            "grid_column": null,
            "overflow_y": null,
            "overflow_x": null,
            "grid_auto_flow": null,
            "grid_area": null,
            "grid_template_columns": null,
            "flex": null,
            "_model_name": "LayoutModel",
            "justify_items": null,
            "grid_row": null,
            "max_height": null,
            "align_content": null,
            "visibility": null,
            "align_self": null,
            "height": null,
            "min_height": null,
            "padding": null,
            "grid_auto_rows": null,
            "grid_gap": null,
            "max_width": null,
            "order": null,
            "_view_module_version": "1.2.0",
            "grid_template_areas": null,
            "object_position": null,
            "object_fit": null,
            "grid_auto_columns": null,
            "margin": null,
            "display": null,
            "left": null
          }
        },
        "a21d5d11a9a14bc29979a01bddee9d90": {
          "model_module": "@jupyter-widgets/controls",
          "model_name": "DescriptionStyleModel",
          "model_module_version": "1.5.0",
          "state": {
            "_view_name": "StyleView",
            "_model_name": "DescriptionStyleModel",
            "description_width": "",
            "_view_module": "@jupyter-widgets/base",
            "_model_module_version": "1.5.0",
            "_view_count": null,
            "_view_module_version": "1.2.0",
            "_model_module": "@jupyter-widgets/controls"
          }
        },
        "d7a0ee05e91b4d15b926b46a2df24bf4": {
          "model_module": "@jupyter-widgets/base",
          "model_name": "LayoutModel",
          "model_module_version": "1.2.0",
          "state": {
            "_view_name": "LayoutView",
            "grid_template_rows": null,
            "right": null,
            "justify_content": null,
            "_view_module": "@jupyter-widgets/base",
            "overflow": null,
            "_model_module_version": "1.2.0",
            "_view_count": null,
            "flex_flow": null,
            "width": null,
            "min_width": null,
            "border": null,
            "align_items": null,
            "bottom": null,
            "_model_module": "@jupyter-widgets/base",
            "top": null,
            "grid_column": null,
            "overflow_y": null,
            "overflow_x": null,
            "grid_auto_flow": null,
            "grid_area": null,
            "grid_template_columns": null,
            "flex": null,
            "_model_name": "LayoutModel",
            "justify_items": null,
            "grid_row": null,
            "max_height": null,
            "align_content": null,
            "visibility": null,
            "align_self": null,
            "height": null,
            "min_height": null,
            "padding": null,
            "grid_auto_rows": null,
            "grid_gap": null,
            "max_width": null,
            "order": null,
            "_view_module_version": "1.2.0",
            "grid_template_areas": null,
            "object_position": null,
            "object_fit": null,
            "grid_auto_columns": null,
            "margin": null,
            "display": null,
            "left": null
          }
        },
        "b0d1d05fd7bc4125b0440a79b1213666": {
          "model_module": "@jupyter-widgets/controls",
          "model_name": "HBoxModel",
          "model_module_version": "1.5.0",
          "state": {
            "_view_name": "HBoxView",
            "_dom_classes": [],
            "_model_name": "HBoxModel",
            "_view_module": "@jupyter-widgets/controls",
            "_model_module_version": "1.5.0",
            "_view_count": null,
            "_view_module_version": "1.5.0",
            "box_style": "",
            "layout": "IPY_MODEL_b5cea1457a1941a0b5af7e38e7ba36c9",
            "_model_module": "@jupyter-widgets/controls",
            "children": [
              "IPY_MODEL_f207dd91b3d04d2d8e6804ea75045035",
              "IPY_MODEL_f784efdf9fe04c82a2becd93ff51a08b",
              "IPY_MODEL_19fff56df11f40f8be40d0c90a4f20b2"
            ]
          }
        },
        "b5cea1457a1941a0b5af7e38e7ba36c9": {
          "model_module": "@jupyter-widgets/base",
          "model_name": "LayoutModel",
          "model_module_version": "1.2.0",
          "state": {
            "_view_name": "LayoutView",
            "grid_template_rows": null,
            "right": null,
            "justify_content": null,
            "_view_module": "@jupyter-widgets/base",
            "overflow": null,
            "_model_module_version": "1.2.0",
            "_view_count": null,
            "flex_flow": null,
            "width": null,
            "min_width": null,
            "border": null,
            "align_items": null,
            "bottom": null,
            "_model_module": "@jupyter-widgets/base",
            "top": null,
            "grid_column": null,
            "overflow_y": null,
            "overflow_x": null,
            "grid_auto_flow": null,
            "grid_area": null,
            "grid_template_columns": null,
            "flex": null,
            "_model_name": "LayoutModel",
            "justify_items": null,
            "grid_row": null,
            "max_height": null,
            "align_content": null,
            "visibility": null,
            "align_self": null,
            "height": null,
            "min_height": null,
            "padding": null,
            "grid_auto_rows": null,
            "grid_gap": null,
            "max_width": null,
            "order": null,
            "_view_module_version": "1.2.0",
            "grid_template_areas": null,
            "object_position": null,
            "object_fit": null,
            "grid_auto_columns": null,
            "margin": null,
            "display": null,
            "left": null
          }
        },
        "f207dd91b3d04d2d8e6804ea75045035": {
          "model_module": "@jupyter-widgets/controls",
          "model_name": "HTMLModel",
          "model_module_version": "1.5.0",
          "state": {
            "_view_name": "HTMLView",
            "style": "IPY_MODEL_8b67526330a14b869194acb7ea96a570",
            "_dom_classes": [],
            "description": "",
            "_model_name": "HTMLModel",
            "placeholder": "​",
            "_view_module": "@jupyter-widgets/controls",
            "_model_module_version": "1.5.0",
            "value": "100%",
            "_view_count": null,
            "_view_module_version": "1.5.0",
            "description_tooltip": null,
            "_model_module": "@jupyter-widgets/controls",
            "layout": "IPY_MODEL_65d831cf882542ab9a277ef34667959f"
          }
        },
        "f784efdf9fe04c82a2becd93ff51a08b": {
          "model_module": "@jupyter-widgets/controls",
          "model_name": "FloatProgressModel",
          "model_module_version": "1.5.0",
          "state": {
            "_view_name": "ProgressView",
            "style": "IPY_MODEL_acf52989331c4c7f95687c67313def78",
            "_dom_classes": [],
            "description": "",
            "_model_name": "FloatProgressModel",
            "bar_style": "success",
            "max": 10,
            "_view_module": "@jupyter-widgets/controls",
            "_model_module_version": "1.5.0",
            "value": 10,
            "_view_count": null,
            "_view_module_version": "1.5.0",
            "orientation": "horizontal",
            "min": 0,
            "description_tooltip": null,
            "_model_module": "@jupyter-widgets/controls",
            "layout": "IPY_MODEL_3db3c902c5be4f8daa67ec78a5acfb57"
          }
        },
        "19fff56df11f40f8be40d0c90a4f20b2": {
          "model_module": "@jupyter-widgets/controls",
          "model_name": "HTMLModel",
          "model_module_version": "1.5.0",
          "state": {
            "_view_name": "HTMLView",
            "style": "IPY_MODEL_8341bb5306054e2aa7587cee51954650",
            "_dom_classes": [],
            "description": "",
            "_model_name": "HTMLModel",
            "placeholder": "​",
            "_view_module": "@jupyter-widgets/controls",
            "_model_module_version": "1.5.0",
            "value": " 10/10 [00:00&lt;00:00, 36.01it/s]",
            "_view_count": null,
            "_view_module_version": "1.5.0",
            "description_tooltip": null,
            "_model_module": "@jupyter-widgets/controls",
            "layout": "IPY_MODEL_14db10374f8741cca9d5d0fbd328c2f7"
          }
        },
        "8b67526330a14b869194acb7ea96a570": {
          "model_module": "@jupyter-widgets/controls",
          "model_name": "DescriptionStyleModel",
          "model_module_version": "1.5.0",
          "state": {
            "_view_name": "StyleView",
            "_model_name": "DescriptionStyleModel",
            "description_width": "",
            "_view_module": "@jupyter-widgets/base",
            "_model_module_version": "1.5.0",
            "_view_count": null,
            "_view_module_version": "1.2.0",
            "_model_module": "@jupyter-widgets/controls"
          }
        },
        "65d831cf882542ab9a277ef34667959f": {
          "model_module": "@jupyter-widgets/base",
          "model_name": "LayoutModel",
          "model_module_version": "1.2.0",
          "state": {
            "_view_name": "LayoutView",
            "grid_template_rows": null,
            "right": null,
            "justify_content": null,
            "_view_module": "@jupyter-widgets/base",
            "overflow": null,
            "_model_module_version": "1.2.0",
            "_view_count": null,
            "flex_flow": null,
            "width": null,
            "min_width": null,
            "border": null,
            "align_items": null,
            "bottom": null,
            "_model_module": "@jupyter-widgets/base",
            "top": null,
            "grid_column": null,
            "overflow_y": null,
            "overflow_x": null,
            "grid_auto_flow": null,
            "grid_area": null,
            "grid_template_columns": null,
            "flex": null,
            "_model_name": "LayoutModel",
            "justify_items": null,
            "grid_row": null,
            "max_height": null,
            "align_content": null,
            "visibility": null,
            "align_self": null,
            "height": null,
            "min_height": null,
            "padding": null,
            "grid_auto_rows": null,
            "grid_gap": null,
            "max_width": null,
            "order": null,
            "_view_module_version": "1.2.0",
            "grid_template_areas": null,
            "object_position": null,
            "object_fit": null,
            "grid_auto_columns": null,
            "margin": null,
            "display": null,
            "left": null
          }
        },
        "acf52989331c4c7f95687c67313def78": {
          "model_module": "@jupyter-widgets/controls",
          "model_name": "ProgressStyleModel",
          "model_module_version": "1.5.0",
          "state": {
            "_view_name": "StyleView",
            "_model_name": "ProgressStyleModel",
            "description_width": "",
            "_view_module": "@jupyter-widgets/base",
            "_model_module_version": "1.5.0",
            "_view_count": null,
            "_view_module_version": "1.2.0",
            "bar_color": null,
            "_model_module": "@jupyter-widgets/controls"
          }
        },
        "3db3c902c5be4f8daa67ec78a5acfb57": {
          "model_module": "@jupyter-widgets/base",
          "model_name": "LayoutModel",
          "model_module_version": "1.2.0",
          "state": {
            "_view_name": "LayoutView",
            "grid_template_rows": null,
            "right": null,
            "justify_content": null,
            "_view_module": "@jupyter-widgets/base",
            "overflow": null,
            "_model_module_version": "1.2.0",
            "_view_count": null,
            "flex_flow": null,
            "width": null,
            "min_width": null,
            "border": null,
            "align_items": null,
            "bottom": null,
            "_model_module": "@jupyter-widgets/base",
            "top": null,
            "grid_column": null,
            "overflow_y": null,
            "overflow_x": null,
            "grid_auto_flow": null,
            "grid_area": null,
            "grid_template_columns": null,
            "flex": null,
            "_model_name": "LayoutModel",
            "justify_items": null,
            "grid_row": null,
            "max_height": null,
            "align_content": null,
            "visibility": null,
            "align_self": null,
            "height": null,
            "min_height": null,
            "padding": null,
            "grid_auto_rows": null,
            "grid_gap": null,
            "max_width": null,
            "order": null,
            "_view_module_version": "1.2.0",
            "grid_template_areas": null,
            "object_position": null,
            "object_fit": null,
            "grid_auto_columns": null,
            "margin": null,
            "display": null,
            "left": null
          }
        },
        "8341bb5306054e2aa7587cee51954650": {
          "model_module": "@jupyter-widgets/controls",
          "model_name": "DescriptionStyleModel",
          "model_module_version": "1.5.0",
          "state": {
            "_view_name": "StyleView",
            "_model_name": "DescriptionStyleModel",
            "description_width": "",
            "_view_module": "@jupyter-widgets/base",
            "_model_module_version": "1.5.0",
            "_view_count": null,
            "_view_module_version": "1.2.0",
            "_model_module": "@jupyter-widgets/controls"
          }
        },
        "14db10374f8741cca9d5d0fbd328c2f7": {
          "model_module": "@jupyter-widgets/base",
          "model_name": "LayoutModel",
          "model_module_version": "1.2.0",
          "state": {
            "_view_name": "LayoutView",
            "grid_template_rows": null,
            "right": null,
            "justify_content": null,
            "_view_module": "@jupyter-widgets/base",
            "overflow": null,
            "_model_module_version": "1.2.0",
            "_view_count": null,
            "flex_flow": null,
            "width": null,
            "min_width": null,
            "border": null,
            "align_items": null,
            "bottom": null,
            "_model_module": "@jupyter-widgets/base",
            "top": null,
            "grid_column": null,
            "overflow_y": null,
            "overflow_x": null,
            "grid_auto_flow": null,
            "grid_area": null,
            "grid_template_columns": null,
            "flex": null,
            "_model_name": "LayoutModel",
            "justify_items": null,
            "grid_row": null,
            "max_height": null,
            "align_content": null,
            "visibility": null,
            "align_self": null,
            "height": null,
            "min_height": null,
            "padding": null,
            "grid_auto_rows": null,
            "grid_gap": null,
            "max_width": null,
            "order": null,
            "_view_module_version": "1.2.0",
            "grid_template_areas": null,
            "object_position": null,
            "object_fit": null,
            "grid_auto_columns": null,
            "margin": null,
            "display": null,
            "left": null
          }
        }
      }
    }
  },
  "cells": [
    {
      "cell_type": "markdown",
      "metadata": {
        "id": "6JBXUys6XuJY"
      },
      "source": [
        "# Import libraries"
      ]
    },
    {
      "cell_type": "code",
      "metadata": {
        "id": "QnN9vw8NoAQH"
      },
      "source": [
        "import gym\n",
        "import numpy as np\n",
        "import matplotlib.pyplot as plt\n",
        "import random\n",
        "\n",
        "from tqdm.notebook import tqdm"
      ],
      "execution_count": 142,
      "outputs": []
    },
    {
      "cell_type": "markdown",
      "metadata": {
        "id": "Le25t4IJXz7t"
      },
      "source": [
        "# Initialize environment and parameters"
      ]
    },
    {
      "cell_type": "code",
      "metadata": {
        "id": "zhDLmSGKoQes"
      },
      "source": [
        "env = gym.make(\"Roulette-v0\").env\n",
        "\n",
        "params = {\n",
        "    \"discount\": 0.9,\n",
        "    \"alpha\": 0.1,\n",
        "    \"eps\": 0.01,\n",
        "    \"N\": 10,\n",
        "    \"num_episodes\": 100,\n",
        "    \"max_iters\": 10000\n",
        "}"
      ],
      "execution_count": 150,
      "outputs": []
    },
    {
      "cell_type": "markdown",
      "metadata": {
        "id": "uGYn3WkuX9To"
      },
      "source": [
        "# On Policy Monte Carlo method"
      ]
    },
    {
      "cell_type": "code",
      "metadata": {
        "id": "_f6s5l8aj6yo"
      },
      "source": [
        "class OnPolicyMCAgent():\n",
        "    '''\n",
        "    Models Monte Carlo RL agent which is trained using On Policy MC algorithm \n",
        "    '''\n",
        "    def __init__(self, env, params):\n",
        "        '''\n",
        "        Method to initialize the On Policy MC agent model\n",
        "\n",
        "        Input\n",
        "        -----\n",
        "        env     : Environment\n",
        "        params  : Parameters for training and simulation\n",
        "        '''\n",
        "        self.env = env\n",
        "        self.nS = env.observation_space.n\n",
        "        self.nA = env.action_space.n\n",
        "        self.params = params\n",
        "\n",
        "        self.q_table = np.zeros((self.nS, self.nA))\n",
        "        self.policy = np.random.randint(self.nA, size=self.nS)\n",
        "\n",
        "    def get_action(self, state):\n",
        "        '''\n",
        "        Method to get action from input state using epsilon greedy policy on Q\n",
        "\n",
        "        Input\n",
        "        -----\n",
        "        state  : Input state\n",
        "\n",
        "        Output\n",
        "        ------\n",
        "        action : Output action based on epsilon greedy policy on Q\n",
        "        '''\n",
        "        if random.uniform(0, 1) < self.params[\"eps\"]:\n",
        "            return self.env.action_space.sample()\n",
        "        else:\n",
        "            return np.argmax(self.q_table[state])\n",
        "\n",
        "    def get_action_policy(self, state, policy):\n",
        "        '''\n",
        "        Method to get action from input state using epsilon greedy policy on input policy\n",
        "\n",
        "        Input\n",
        "        -----\n",
        "        state  : Input state\n",
        "        policy : Input policy\n",
        "\n",
        "        Output\n",
        "        ------\n",
        "        action : Output action based on epsilon greedy policy on Q\n",
        "        '''\n",
        "        if random.uniform(0, 1) < self.params[\"eps\"]:\n",
        "            return self.env.action_space.sample()\n",
        "        else:\n",
        "            return policy[state]\n",
        "\n",
        "    def train_agent(self):\n",
        "        '''\n",
        "        Method to train agent using On Policy MC method\n",
        "        '''\n",
        "        self.q_table = np.random.rand(self.nS, self.nA)\n",
        "        self.policy = np.random.randint(self.nA, size=self.nS)\n",
        "        returns_table = {}\n",
        "        for state in range(self.nS):\n",
        "            for action in range(self.nA):\n",
        "                returns_table[(state, action)] = []\n",
        "        \n",
        "        sum_rewards_N = []\n",
        "        for i in tqdm(range(self.params[\"N\"])):\n",
        "            sum_rewards = []\n",
        "            for ep in range(self.params[\"num_episodes\"]):\n",
        "                state = self.env.reset()\n",
        "                done = False\n",
        "                episode = []\n",
        "                sum_R = 0\n",
        "                iter = 0\n",
        "\n",
        "                # Generate episode\n",
        "                while not done and iter < self.params[\"max_iters\"]:\n",
        "                    action = self.get_action_policy(state, self.policy)\n",
        "\n",
        "                    obs, reward, done, info = self.env.step(action)\n",
        "                    sum_R += reward\n",
        "\n",
        "                    episode.append((state, action, reward))\n",
        "                    state = obs\n",
        "                \n",
        "                sum_rewards.append(sum_R)\n",
        "\n",
        "                # Update returns and state-action values\n",
        "                G = {}\n",
        "                for (S, A, R) in episode:\n",
        "                    if (S, A) not in G:\n",
        "                        G[(S, A)] = 0\n",
        "                    for tmp in G:\n",
        "                        G[tmp] = self.params[\"discount\"] * G[tmp] + R\n",
        "\n",
        "                for tmp in G:\n",
        "                    returns_table[tmp].append(G[tmp])\n",
        "\n",
        "                for (S, A) in G:\n",
        "                    self.q_table[S, A] = np.mean(returns_table[S, A])\n",
        "\n",
        "                # Update policy\n",
        "                for (S, A) in G:\n",
        "                    self.policy[S] = np.argmax(self.q_table[S])\n",
        "\n",
        "            sum_rewards_N.append(sum_rewards)\n",
        "\n",
        "        self.policy = self.get_policy()\n",
        "        return sum_rewards_N\n",
        "\n",
        "    def get_policy(self):\n",
        "        '''\n",
        "        Getter method for policy using state-action values\n",
        "        '''\n",
        "        return np.argmax(self.q_table, axis=1)\n",
        "\n",
        "    def get_policy_state(self, state):\n",
        "        '''\n",
        "        Getter method for policy of input state\n",
        "        '''\n",
        "        return self.policy[state]\n",
        "\n",
        "    def get_nS(self):\n",
        "        '''\n",
        "        Getter method for number of states\n",
        "        '''\n",
        "        return self.nS\n",
        "\n",
        "    def get_nA(self):\n",
        "        '''\n",
        "        Getter method for number of actions\n",
        "        '''\n",
        "        return self.nA\n",
        "\n",
        "    def get_Q_sa_value(self, state, action):\n",
        "        '''\n",
        "        Getter method for state-action value\n",
        "        '''\n",
        "        return self.q_table[state, action]"
      ],
      "execution_count": 151,
      "outputs": []
    },
    {
      "cell_type": "code",
      "metadata": {
        "colab": {
          "base_uri": "https://localhost:8080/",
          "height": 327,
          "referenced_widgets": [
            "67bd3c68a7d24bc8bf6162edb98b9fda",
            "6e846280d68c4bb69a744129cb9a878e",
            "5c22c4d879f148d69286c26b57e972ec",
            "9844e2d1198d4634bee06d2516e5f13c",
            "7f5f4ed612d846c9b793a6ed75624d5b",
            "4e0d31e3a507491985aa248f0a036676",
            "911afab9a73e401f90d5645fe25d4c4b",
            "33616aec3be04ea988a4b9dddfed8526",
            "b16f506af14048359948d1559d5267de",
            "217659e3a0854e4287bd5534da30b9cf",
            "785d85495ffd474f8a54be5979771889"
          ]
        },
        "id": "EMSej3gNk0rQ",
        "outputId": "db1946d4-93a4-44d5-d67f-de2d94b51cb0"
      },
      "source": [
        "params = {\n",
        "    \"discount\": 0.9,\n",
        "    \"alpha\": 0.1,\n",
        "    \"eps\": 0.01,\n",
        "    \"N\": 10,\n",
        "    \"num_episodes\": 100,\n",
        "    \"max_iters\": 10000\n",
        "}\n",
        "\n",
        "on_policy_mc_agent = OnPolicyMCAgent(env, params)\n",
        "sum_rewards = on_policy_mc_agent.train_agent()\n",
        "\n",
        "len1 = len(sum_rewards[0])\n",
        "x = np.arange(len1)\n",
        "for sum_rew in sum_rewards:\n",
        "    plt.plot(x, sum_rew)\n",
        "    x += len1\n",
        "\n",
        "plt.title(\"Rewards vs Episodes\")\n",
        "plt.xlabel(\"Episodes\")\n",
        "plt.ylabel(\"Rewards\")\n",
        "plt.show()"
      ],
      "execution_count": 166,
      "outputs": [
        {
          "output_type": "display_data",
          "data": {
            "application/vnd.jupyter.widget-view+json": {
              "model_id": "67bd3c68a7d24bc8bf6162edb98b9fda",
              "version_minor": 0,
              "version_major": 2
            },
            "text/plain": [
              "  0%|          | 0/10 [00:00<?, ?it/s]"
            ]
          },
          "metadata": {}
        },
        {
          "output_type": "display_data",
          "data": {
            "image/png": "[encoded data removed]",
            "text/plain": [
              "<Figure size 432x288 with 1 Axes>"
            ]
          },
          "metadata": {
            "needs_background": "light"
          }
        }
      ]
    },
    {
      "cell_type": "markdown",
      "metadata": {
        "id": "rG97PACxZSpR"
      },
      "source": [
        "The above plot is **sum of rewards vs episodes** graph over N runs. N was chosen to be 10. Hence, we trained agents using On Policy Monte Carlo method in 10 runs subsequently. As the agent is trained subsequently, the plot is created by appending the plots of subsequent run to the right. In each run, we trained the agent for 100 episodes.\n",
        "\n",
        "From the above plot, we can observe that until around 80 episodes, the variance of sum of rewards is high, i.e., the state-action values learnt are not yet optimal or good until 80 episodes. Even though we used reasonably small epsilon value (0.01) for encouraging exploration, the agent seems to learn near optimal state-action values at around 80 episodes. After 80 episodes, we can see that for all subsequent runs, the sum of rewards is almost 0 with some very small variance. Hence, we can say that it takes around 80 episodes to learn good state-action values for this environment using On Policy Monte Carlo method."
      ]
    },
    {
      "cell_type": "code",
      "metadata": {
        "colab": {
          "base_uri": "https://localhost:8080/"
        },
        "id": "7uLEdlsvbC13",
        "outputId": "090d7782-c6c3-4884-d8ab-5956e79d5778"
      },
      "source": [
        "on_policy_mc_agent.policy"
      ],
      "execution_count": 167,
      "outputs": [
        {
          "output_type": "execute_result",
          "data": {
            "text/plain": [
              "array([37])"
            ]
          },
          "metadata": {},
          "execution_count": 167
        }
      ]
    },
    {
      "cell_type": "markdown",
      "metadata": {
        "id": "-ObCgGl7dI0b"
      },
      "source": [
        "In the above cell, the optimal policy obtained after N runs is printed. We can see that the optimal action according to the policy learnt is action 37, which is to leave the game. This is evident that the rewards in the game Roulette is maximized only when we leave the game, because longer we stay in the game, more the losses we incur."
      ]
    },
    {
      "cell_type": "markdown",
      "metadata": {
        "id": "wJotLcrratHA"
      },
      "source": [
        "# Off Policy Monte Carlo method"
      ]
    },
    {
      "cell_type": "code",
      "metadata": {
        "id": "mW616jLllSEW"
      },
      "source": [
        "class OffPolicyMCAgent():\n",
        "    '''\n",
        "    Models Monte Carlo RL agent which is trained using Off Policy MC method\n",
        "    '''\n",
        "    def __init__(self, env, params):\n",
        "        '''\n",
        "        Method to initialize the Off Policy MC agent model\n",
        "\n",
        "        Input\n",
        "        -----\n",
        "        env     : Environment\n",
        "        params  : Parameters for training and simulation\n",
        "        '''\n",
        "        self.env = env\n",
        "        self.nS = env.observation_space.n\n",
        "        self.nA = env.action_space.n\n",
        "        self.params = params\n",
        "\n",
        "        self.q_table = np.random.rand(self.nS, self.nA)\n",
        "        self.policy = np.argmax(self.q_table, axis=1)\n",
        "\n",
        "    def get_action_policy(self, state, policy):\n",
        "        '''\n",
        "        Method to get action from input state using epsilon greedy policy on input policy\n",
        "\n",
        "        Input\n",
        "        -----\n",
        "        state  : Input state\n",
        "        policy : Input policy\n",
        "\n",
        "        Output\n",
        "        ------\n",
        "        action : Output action based on epsilon greedy policy on Q\n",
        "        '''\n",
        "        if random.uniform(0, 1) < self.params[\"eps\"]:\n",
        "            return self.env.action_space.sample()\n",
        "        else:\n",
        "            return policy[state]\n",
        "\n",
        "    def train_agent(self):\n",
        "        '''\n",
        "        Method to train agent using Off Policy MC method\n",
        "        '''\n",
        "        self.q_table = np.random.rand(self.nS, self.nA)\n",
        "        c_table = np.zeros((self.nS, self.nA))\n",
        "        self.policy = np.argmax(self.q_table, axis=1)\n",
        "        \n",
        "        sum_rewards_N = []\n",
        "        for i in tqdm(range(self.params[\"N\"])):\n",
        "            sum_rewards = []\n",
        "            for ep in range(self.params[\"num_episodes\"]):\n",
        "                b = np.random.randint(self.nA, size=self.nS)\n",
        "\n",
        "                state = self.env.reset()\n",
        "                done = False\n",
        "                episode = []\n",
        "                sum_R = 0\n",
        "\n",
        "                while not done:\n",
        "                    action = self.get_action_policy(state, b)\n",
        "\n",
        "                    obs, reward, done, info = self.env.step(action)\n",
        "                    sum_R += reward\n",
        "\n",
        "                    episode.append((state, action, reward))\n",
        "                    state = obs\n",
        "\n",
        "                sum_rewards.append(sum_R)\n",
        "\n",
        "                G, W = 0, 1\n",
        "                for (S, A, R) in list(reversed(episode)):\n",
        "                    G = self.params[\"discount\"] * G + R\n",
        "                    c_table[S, A] += W\n",
        "                    self.q_table[S, A] += W * (G - self.q_table[S, A]) / c_table[S, A]\n",
        "                    self.policy[S] = np.argmax(self.q_table[S])\n",
        "\n",
        "                    if A != self.policy[S]:\n",
        "                        break\n",
        "\n",
        "                    if b[S] == A:\n",
        "                        W = W / (1 - self.params[\"eps\"] + self.params[\"eps\"] / self.nA)\n",
        "                    else:\n",
        "                        W = W / (self.params[\"eps\"] / self.nA)\n",
        "            \n",
        "            sum_rewards_N.append(sum_rewards)\n",
        "        \n",
        "        self.policy = self.get_policy()\n",
        "        return sum_rewards_N\n",
        "\n",
        "    def get_policy(self):\n",
        "        '''\n",
        "        Getter method for policy using state-action values\n",
        "        '''\n",
        "        return np.argmax(self.q_table, axis=1)\n",
        "\n",
        "    def get_policy_state(self, state):\n",
        "        '''\n",
        "        Getter method for policy of input state\n",
        "        '''\n",
        "        return self.policy[state]\n",
        "\n",
        "    def get_nS(self):\n",
        "        '''\n",
        "        Getter method for number of states\n",
        "        '''\n",
        "        return self.nS\n",
        "\n",
        "    def get_nA(self):\n",
        "        '''\n",
        "        Getter method for number of actions\n",
        "        '''\n",
        "        return self.nA\n",
        "\n",
        "    def get_Q_sa_value(self, state, action):\n",
        "        '''\n",
        "        Getter method for state-action value\n",
        "        '''\n",
        "        return self.q_table[state, action]"
      ],
      "execution_count": 204,
      "outputs": []
    },
    {
      "cell_type": "code",
      "metadata": {
        "colab": {
          "base_uri": "https://localhost:8080/",
          "height": 327,
          "referenced_widgets": [
            "272b18f7b3bb4c4abcacf434aaf504a9",
            "3eb1ee3f4b324f84bfa584b36e68250e",
            "01798cea03a940ff88d0663e298af182",
            "87c2019ad9cc411faa5b3caaca7318bb",
            "225b43ddc06c41ef9e4568468bb6d325",
            "9d5c1846ba934f6db4941ab60eba569c",
            "410e387d301246ef8da9d2ed8c9b67af",
            "f7275b8df7fc4a958c1f443ea332f047",
            "4847766cd2b1454dad93584b674f6d65",
            "6e1d3187c6f24ed2bad69b95483b769b",
            "4f6b523bc041456f893c68f9e8a14ad7"
          ]
        },
        "id": "Ybbl13bNmOlW",
        "outputId": "91602140-691d-46b0-f91b-503f4da6b42a"
      },
      "source": [
        "params = {\n",
        "    \"discount\": 0.9,\n",
        "    \"alpha\": 0.1,\n",
        "    \"eps\": 0.1,\n",
        "    \"N\": 15,\n",
        "    \"num_episodes\": 100,\n",
        "    \"max_iters\": 10000\n",
        "}\n",
        "\n",
        "off_policy_mc_agent = OffPolicyMCAgent(env, params)\n",
        "sum_rewards = off_policy_mc_agent.train_agent()\n",
        "\n",
        "len1 = len(sum_rewards[0])\n",
        "x = np.arange(len1)\n",
        "for sum_rew in sum_rewards:\n",
        "    plt.plot(x, sum_rew)\n",
        "    x += len1\n",
        "\n",
        "plt.title(\"Rewards vs Episodes\")\n",
        "plt.xlabel(\"Episodes\")\n",
        "plt.ylabel(\"Rewards\")\n",
        "plt.show()"
      ],
      "execution_count": 230,
      "outputs": [
        {
          "output_type": "display_data",
          "data": {
            "application/vnd.jupyter.widget-view+json": {
              "model_id": "272b18f7b3bb4c4abcacf434aaf504a9",
              "version_minor": 0,
              "version_major": 2
            },
            "text/plain": [
              "  0%|          | 0/15 [00:00<?, ?it/s]"
            ]
          },
          "metadata": {}
        },
        {
          "output_type": "display_data",
          "data": {
            "image/png": "[encoded data removed]",
            "text/plain": [
              "<Figure size 432x288 with 1 Axes>"
            ]
          },
          "metadata": {
            "needs_background": "light"
          }
        }
      ]
    },
    {
      "cell_type": "markdown",
      "metadata": {
        "id": "dVVE_RI9d_Pn"
      },
      "source": [
        "The above plot is **sum of rewards vs episodes** graph over N runs. N was chosen to be 10. Hence, we trained agents using On Policy Monte Carlo method in 10 runs subsequently. As the agent is trained subsequently, the plot is created by appending the plots of subsequent run to the right. In each run, we trained the agent for 100 episodes.\n",
        "\n",
        "We see that there is lot of variance in the plot. This is because in Off Policy MC method, we use different policies for generation episodes and learning. Due to which the learnt policy might not always to optimal. Infact we use different epsilon greedy policy in each episode, hence, the variance is high."
      ]
    },
    {
      "cell_type": "code",
      "metadata": {
        "colab": {
          "base_uri": "https://localhost:8080/"
        },
        "id": "AHKVoOvI-hrO",
        "outputId": "f344d5a4-a259-4782-a7e8-b6096c12a69f"
      },
      "source": [
        "off_policy_mc_agent.policy"
      ],
      "execution_count": 231,
      "outputs": [
        {
          "output_type": "execute_result",
          "data": {
            "text/plain": [
              "array([26])"
            ]
          },
          "metadata": {},
          "execution_count": 231
        }
      ]
    },
    {
      "cell_type": "markdown",
      "metadata": {
        "id": "h62epSGieC_U"
      },
      "source": [
        "In the above cell, the optimal policy obtained after N runs is printed. We can see that the optimal action according to the policy learnt is action 26, which is not the action to leave the game. This could be because of the nature of Off Policy MC method. As we are using episodes generated by some other epsilon soft policy to learn optimal policy, it could have learnt this action."
      ]
    },
    {
      "cell_type": "markdown",
      "metadata": {
        "id": "O6mLMHtLeEjx"
      },
      "source": [
        "# Q Learning (Temporal Difference) method"
      ]
    },
    {
      "cell_type": "code",
      "metadata": {
        "id": "X4XdKd2ufT6R"
      },
      "source": [
        "class QLearningTDAgent():\n",
        "    '''\n",
        "    Models Temporal Difference RL agent which is trained using Q Learning method\n",
        "    '''\n",
        "    def __init__(self, env, params):\n",
        "        '''\n",
        "        Method to initialize the Q Learning agent model\n",
        "\n",
        "        Input\n",
        "        -----\n",
        "        env     : Environment\n",
        "        params  : Parameters for training and simulation\n",
        "        '''\n",
        "        self.env = env\n",
        "        self.nS = env.observation_space.n\n",
        "        self.nA = env.action_space.n\n",
        "        self.params = params\n",
        "\n",
        "        self.q_table = np.zeros((self.nS, self.nA))\n",
        "        self.policy = np.random.randint(self.nA, size=self.nS)\n",
        "\n",
        "    def get_action(self, state):\n",
        "        '''\n",
        "        Method to get action from input state using epsilon greedy policy on Q\n",
        "\n",
        "        Input\n",
        "        -----\n",
        "        state  : Input state\n",
        "\n",
        "        Output\n",
        "        ------\n",
        "        action : Output action based on epsilon greedy policy on Q\n",
        "        '''\n",
        "        if random.uniform(0, 1) < self.params[\"eps\"]:\n",
        "            return self.env.action_space.sample()\n",
        "        else:\n",
        "            return np.argmax(self.q_table[state])\n",
        "\n",
        "    def train_agent(self):\n",
        "        '''\n",
        "        Method to train agent using Q Learning method\n",
        "        '''\n",
        "        self.q_table = np.zeros((self.nS, self.nA))\n",
        "        \n",
        "        sum_rewards_N = []\n",
        "        for i in tqdm(range(self.params[\"N\"])):\n",
        "            sum_rewards = []\n",
        "            for ep in range(self.params[\"num_episodes\"]):\n",
        "                sum_R = 0\n",
        "                state = self.env.reset()\n",
        "                done = False\n",
        "                iter = 0\n",
        "\n",
        "                while not done and iter < self.params[\"max_iters\"]:\n",
        "                    action = self.get_action(state)\n",
        "\n",
        "                    obs, reward, done, info = self.env.step(action)\n",
        "                    sum_R += reward\n",
        "\n",
        "                    self.q_table[state, action] += self.params[\"alpha\"] * (reward + self.params[\"discount\"] * np.max(self.q_table[obs]) - self.q_table[state, action])\n",
        "\n",
        "                    state = obs\n",
        "                    iter += 1\n",
        "\n",
        "                sum_rewards.append(sum_R)\n",
        "\n",
        "            sum_rewards_N.append(sum_rewards)\n",
        "\n",
        "        self.policy = self.get_policy()\n",
        "\n",
        "        return sum_rewards_N\n",
        "\n",
        "    def get_policy(self):\n",
        "        '''\n",
        "        Getter method for policy using state-action values\n",
        "        '''\n",
        "        return np.argmax(self.q_table, axis=1)\n",
        "\n",
        "    def get_policy_state(self, state):\n",
        "        '''\n",
        "        Getter method for policy of input state\n",
        "        '''\n",
        "        return self.policy[state]\n",
        "\n",
        "    def get_nS(self):\n",
        "        '''\n",
        "        Getter method for number of states\n",
        "        '''\n",
        "        return self.nS\n",
        "\n",
        "    def get_nA(self):\n",
        "        '''\n",
        "        Getter method for number of actions\n",
        "        '''\n",
        "        return self.nA\n",
        "\n",
        "    def get_Q_sa_value(self, state, action):\n",
        "        '''\n",
        "        Getter method for state-action value\n",
        "        '''\n",
        "        return self.q_table[state, action]"
      ],
      "execution_count": 173,
      "outputs": []
    },
    {
      "cell_type": "code",
      "metadata": {
        "colab": {
          "base_uri": "https://localhost:8080/",
          "height": 327,
          "referenced_widgets": [
            "3564aafe9c7644e29e3fed4dccba7794",
            "24e17637ce734f5681910af82eedbff4",
            "c0cac318b3c441978f3fa8970a988d5f",
            "fa26f408910c44a28ac0ea18708d92a5",
            "695ada0547d54926b14d9ac1378054b3",
            "d1282bdb9cce4d19b4d1060b1abec7be",
            "eeeb38a5c42047059f3c06a346050596",
            "6506abd38a724e17a55804de75f71afa",
            "56f90e3a54654cd3a9799c6e7b1a1bf0",
            "a21d5d11a9a14bc29979a01bddee9d90",
            "d7a0ee05e91b4d15b926b46a2df24bf4"
          ]
        },
        "id": "4au6QG11hq1e",
        "outputId": "b7413281-9aa8-48cc-d98d-5b979cae613f"
      },
      "source": [
        "params = {\n",
        "    \"discount\": 0.9,\n",
        "    \"alpha\": 0.1,\n",
        "    \"eps\": 0.01,\n",
        "    \"N\": 10,\n",
        "    \"num_episodes\": 100,\n",
        "    \"max_iters\": 10000\n",
        "}\n",
        "\n",
        "q_learning_agent = QLearningTDAgent(env, params)\n",
        "sum_rewards = q_learning_agent.train_agent()\n",
        "\n",
        "len1 = len(sum_rewards[0])\n",
        "x = np.arange(len1)\n",
        "for sum_rew in sum_rewards:\n",
        "    plt.plot(x, sum_rew)\n",
        "    x += len1\n",
        "\n",
        "plt.title(\"Rewards vs Episodes\")\n",
        "plt.xlabel(\"Episodes\")\n",
        "plt.ylabel(\"Rewards\")\n",
        "plt.show()"
      ],
      "execution_count": 177,
      "outputs": [
        {
          "output_type": "display_data",
          "data": {
            "application/vnd.jupyter.widget-view+json": {
              "model_id": "3564aafe9c7644e29e3fed4dccba7794",
              "version_minor": 0,
              "version_major": 2
            },
            "text/plain": [
              "  0%|          | 0/10 [00:00<?, ?it/s]"
            ]
          },
          "metadata": {}
        },
        {
          "output_type": "display_data",
          "data": {
            "image/png": "[encoded data removed]",
            "text/plain": [
              "<Figure size 432x288 with 1 Axes>"
            ]
          },
          "metadata": {
            "needs_background": "light"
          }
        }
      ]
    },
    {
      "cell_type": "markdown",
      "metadata": {
        "id": "k4HexRuKenIf"
      },
      "source": [
        "The above plot is **sum of rewards vs episodes** graph over N runs. N was chosen to be 10. Hence, we trained agents using On Policy Monte Carlo method in 10 runs subsequently. As the agent is trained subsequently, the plot is created by appending the plots of subsequent run to the right. In each run, we trained the agent for 100 episodes.\n",
        "\n",
        "From the above plot, we can observe that the policies attain near optimal values around 10-15 episodes itself, because we can see that until then the sum of rewards are highly varying (high variance), but after that the sum of rewards of almost 0. Even though we used reasonably small epsilon value (0.01) for encouraging exploration, the agent seems to learn near optimal state-action values very quick. As we can see that the sum of rewards are near 0 after 10-15 episodes, we can say that it takes around 10 episodes to learn good state-action values for this environment using Q Learning (TD) method. Even though sometimes in between, we can see spikes in rewards, its due to exploration happening during that time (some randomness introduced)"
      ]
    },
    {
      "cell_type": "code",
      "metadata": {
        "id": "ZMdoJ482XGBT",
        "colab": {
          "base_uri": "https://localhost:8080/"
        },
        "outputId": "b40e8e66-5864-493e-a5ed-6ba54d280fcf"
      },
      "source": [
        "q_learning_agent.policy"
      ],
      "execution_count": 178,
      "outputs": [
        {
          "output_type": "execute_result",
          "data": {
            "text/plain": [
              "array([37])"
            ]
          },
          "metadata": {},
          "execution_count": 178
        }
      ]
    },
    {
      "cell_type": "markdown",
      "metadata": {
        "id": "fa0AmpD7ezBX"
      },
      "source": [
        "In the above cell, the optimal policy obtained after N runs is printed. We can see that the optimal action according to the policy learnt is action 37, which is to leave the game. This is evident that the rewards in the game Roulette is maximized only when we leave the game, because longer we stay in the game, more the losses we incur."
      ]
    },
    {
      "cell_type": "markdown",
      "metadata": {
        "id": "Av3tvPpzezJ5"
      },
      "source": [
        "# Sarsa (Temporal Difference) method"
      ]
    },
    {
      "cell_type": "code",
      "metadata": {
        "id": "BtVYeIdnYLb3"
      },
      "source": [
        "class SarsaTDAgent():\n",
        "    '''\n",
        "    Models Temporal Difference RL agent which is trained using SARSA method\n",
        "    '''\n",
        "    def __init__(self, env, params):\n",
        "        '''\n",
        "        Method to initialize the SARSA agent model\n",
        "\n",
        "        Input\n",
        "        -----\n",
        "        env     : Environment\n",
        "        params  : Parameters for training and simulation\n",
        "        '''\n",
        "        self.env = env\n",
        "        self.nS = env.observation_space.n\n",
        "        self.nA = env.action_space.n\n",
        "        self.params = params\n",
        "\n",
        "        self.q_table = np.zeros((self.nS, self.nA))\n",
        "        self.policy = np.random.randint(self.nA, size=self.nS)\n",
        "\n",
        "    def get_action(self, state):\n",
        "        '''\n",
        "        Method to get action from input state using epsilon greedy policy on Q\n",
        "\n",
        "        Input\n",
        "        -----\n",
        "        state  : Input state\n",
        "\n",
        "        Output\n",
        "        ------\n",
        "        action : Output action based on epsilon greedy policy on Q\n",
        "        '''\n",
        "        if random.uniform(0, 1) < self.params[\"eps\"]:\n",
        "            return self.env.action_space.sample()\n",
        "        else:\n",
        "            return np.argmax(self.q_table[state])\n",
        "\n",
        "    def train_agent(self):\n",
        "        '''\n",
        "        Method to train agent using SARSA method\n",
        "        '''\n",
        "        self.q_table = np.zeros((self.nS, self.nA))\n",
        "        \n",
        "        sum_rewards_N = []\n",
        "        for i in tqdm(range(self.params[\"N\"])):\n",
        "            sum_rewards = []\n",
        "            for ep in range(self.params[\"num_episodes\"]):\n",
        "                sum_R = 0\n",
        "                state = env.reset()\n",
        "                done = False\n",
        "                iter = 0\n",
        "\n",
        "                action = self.get_action(state)\n",
        "\n",
        "                while not done and iter < self.params[\"max_iters\"]:\n",
        "                    obs, reward, done, info = self.env.step(action)\n",
        "                    sum_R += reward\n",
        "\n",
        "                    next_action = self.get_action(obs)\n",
        "\n",
        "                    self.q_table[state, action] += self.params[\"alpha\"] * (reward + self.params[\"discount\"] * self.q_table[obs, next_action] - self.q_table[state, action])\n",
        "\n",
        "                    state = obs\n",
        "                    action = next_action\n",
        "                    iter += 1\n",
        "\n",
        "                sum_rewards.append(sum_R)\n",
        "\n",
        "            sum_rewards_N.append(sum_rewards)\n",
        "\n",
        "        self.policy = self.get_policy()\n",
        "        \n",
        "        return sum_rewards_N\n",
        "\n",
        "    def get_policy(self):\n",
        "        '''\n",
        "        Getter method for policy using state-action values\n",
        "        '''\n",
        "        return np.argmax(self.q_table, axis=1)\n",
        "\n",
        "    def get_policy_state(self, state):\n",
        "        '''\n",
        "        Getter method for policy of input state\n",
        "        '''\n",
        "        return self.policy[state]\n",
        "\n",
        "    def get_nS(self):\n",
        "        '''\n",
        "        Getter method for number of states\n",
        "        '''\n",
        "        return self.nS\n",
        "\n",
        "    def get_nA(self):\n",
        "        '''\n",
        "        Getter method for number of actions\n",
        "        '''\n",
        "        return self.nA\n",
        "\n",
        "    def get_Q_sa_value(self, state, action):\n",
        "        '''\n",
        "        Getter method for state-action value\n",
        "        '''\n",
        "        return self.q_table[state, action]"
      ],
      "execution_count": 185,
      "outputs": []
    },
    {
      "cell_type": "code",
      "metadata": {
        "colab": {
          "base_uri": "https://localhost:8080/",
          "height": 327,
          "referenced_widgets": [
            "b0d1d05fd7bc4125b0440a79b1213666",
            "b5cea1457a1941a0b5af7e38e7ba36c9",
            "f207dd91b3d04d2d8e6804ea75045035",
            "f784efdf9fe04c82a2becd93ff51a08b",
            "19fff56df11f40f8be40d0c90a4f20b2",
            "8b67526330a14b869194acb7ea96a570",
            "65d831cf882542ab9a277ef34667959f",
            "acf52989331c4c7f95687c67313def78",
            "3db3c902c5be4f8daa67ec78a5acfb57",
            "8341bb5306054e2aa7587cee51954650",
            "14db10374f8741cca9d5d0fbd328c2f7"
          ]
        },
        "id": "aoo6vfKEjnuq",
        "outputId": "45ba93ca-1f90-4baf-9971-292619710405"
      },
      "source": [
        "params = {\n",
        "    \"discount\": 0.9,\n",
        "    \"alpha\": 0.1,\n",
        "    \"eps\": 0.01,\n",
        "    \"N\": 10,\n",
        "    \"num_episodes\": 100,\n",
        "    \"max_iters\": 10000\n",
        "}\n",
        "\n",
        "sarsa_agent = SarsaTDAgent(env, params)\n",
        "sum_rewards = sarsa_agent.train_agent()\n",
        "\n",
        "len1 = len(sum_rewards[0])\n",
        "x = np.arange(len1)\n",
        "for sum_rew in sum_rewards:\n",
        "    plt.plot(x, sum_rew)\n",
        "    x += len1\n",
        "\n",
        "plt.title(\"Rewards vs Episodes\")\n",
        "plt.xlabel(\"Episodes\")\n",
        "plt.ylabel(\"Rewards\")\n",
        "plt.show()"
      ],
      "execution_count": 187,
      "outputs": [
        {
          "output_type": "display_data",
          "data": {
            "application/vnd.jupyter.widget-view+json": {
              "model_id": "b0d1d05fd7bc4125b0440a79b1213666",
              "version_minor": 0,
              "version_major": 2
            },
            "text/plain": [
              "  0%|          | 0/10 [00:00<?, ?it/s]"
            ]
          },
          "metadata": {}
        },
        {
          "output_type": "display_data",
          "data": {
            "image/png": "[encoded data removed]",
            "text/plain": [
              "<Figure size 432x288 with 1 Axes>"
            ]
          },
          "metadata": {
            "needs_background": "light"
          }
        }
      ]
    },
    {
      "cell_type": "markdown",
      "metadata": {
        "id": "fP7O5hWjfEMh"
      },
      "source": [
        "The above plot is **sum of rewards vs episodes** graph over N runs. N was chosen to be 10. Hence, we trained agents using On Policy Monte Carlo method in 10 runs subsequently. As the agent is trained subsequently, the plot is created by appending the plots of subsequent run to the right. In each run, we trained the agent for 100 episodes.\n",
        "\n",
        "From the above plot, we can observe that the policies attain near optimal values around 10-15 episodes itself, because we can see that until then the sum of rewards are highly varying (high variance), but after that the sum of rewards of almost 0. Even though we used reasonably small epsilon value (0.01) for encouraging exploration, the agent seems to learn near optimal state-action values very quick. As we can see that the sum of rewards are near 0 after 10-15 episodes, we can say that it takes around 10 episodes to learn good state-action values for this environment using Sarsa (TD) method."
      ]
    },
    {
      "cell_type": "code",
      "metadata": {
        "id": "NnLlH8MGYZJk",
        "colab": {
          "base_uri": "https://localhost:8080/"
        },
        "outputId": "b08239f5-036d-4ad0-d235-18d018fa32bb"
      },
      "source": [
        "sarsa_agent.policy"
      ],
      "execution_count": 188,
      "outputs": [
        {
          "output_type": "execute_result",
          "data": {
            "text/plain": [
              "array([37])"
            ]
          },
          "metadata": {},
          "execution_count": 188
        }
      ]
    },
    {
      "cell_type": "markdown",
      "metadata": {
        "id": "xyI-IuM4fHlT"
      },
      "source": [
        "In the above cell, the optimal policy obtained after N runs is printed. We can see that the optimal action according to the policy learnt is action 37, which is to leave the game. This is evident that the rewards in the game Roulette is maximized only when we leave the game, because longer we stay in the game, more the losses we incur."
      ]
    },
    {
      "cell_type": "markdown",
      "metadata": {
        "id": "xVb2I708iPXH"
      },
      "source": [
        "# Comparison between four methods"
      ]
    },
    {
      "cell_type": "markdown",
      "metadata": {
        "id": "OlfiQkqoiYaE"
      },
      "source": [
        "Comparing all 4 methods, we see that Temporal Difference methods do better than Monte Carlo methods. This could be because of usage of state-action values in TD methods as opposed to that in MC methods. In MC methods, we solely depend of simulations to update the state action values, i.e., we do not bootstrap in MC methods. But on the contrary in TD methods, we use state-action values for the update, i.e., we do bootstrap in TD methods. Hence, this could be the reason for better performance of TD methods over MC methods.\n",
        "\n",
        "In MC methods, we can see that On Policy MC method performs better than Off Policy MC method. This is because in On Policy MC method, we use the same policy to simulate and update the policy, whereas in Off Policy MC method, we use a separate epsilon soft policy to simulate and use another policy for learning. Even though we use Importance Sampling, the variance cannot be reduced to zero in Off Policy MC method, because of usage of different policies. However, it learns reasonably good policy as we can see that it very converges towards 0 (even though not completely).\n",
        "\n",
        "In TD methods, we can see from the plot that both methods (Sarsa and Q Learning) are having almost same performance. But however, we see that in Sarsa the variance around 0 is lesser when compared to Q Learning method. Hence, in the above run training and simulations, Sarsa seems to exceed in performance than Q learning"
      ]
    },
    {
      "cell_type": "markdown",
      "metadata": {
        "id": "xG0pbFsuktWb"
      },
      "source": [
        "We can estimate the number of episodes taken to learn the near optimal policy using the plots given above (sum of rewards vs episodes) by looking at when it converges (low variance along y axis).\n",
        "\n",
        "We can see that On Policy MC method takes around 80 episodes to converge to an near optimal policy, whereas Off POlicy MC method have lot of variance even after 2000 episodes. Q Learning and Sarsa TD methods take only around 10-15 episodes to learn the near optimal policy."
      ]
    }
  ]
}